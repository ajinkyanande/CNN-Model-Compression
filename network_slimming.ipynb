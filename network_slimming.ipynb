{
  "nbformat": 4,
  "nbformat_minor": 0,
  "metadata": {
    "kernelspec": {
      "display_name": "Python 3",
      "language": "python",
      "name": "python3"
    },
    "language_info": {
      "codemirror_mode": {
        "name": "ipython",
        "version": 3
      },
      "file_extension": ".py",
      "mimetype": "text/x-python",
      "name": "python",
      "nbconvert_exporter": "python",
      "pygments_lexer": "ipython3",
      "version": "3.7.6"
    },
    "colab": {
      "provenance": []
    },
    "accelerator": "GPU"
  },
  "cells": [
    {
      "cell_type": "markdown",
      "metadata": {
        "id": "y-eC-sb34T9w"
      },
      "source": [
        "## Accelerate Inference: Neural Network Pruning"
      ]
    },
    {
      "cell_type": "code",
      "metadata": {
        "id": "L47XBZWm4T9x",
        "outputId": "69d32f55-5c12-4423-d8db-f65e6c551dac",
        "colab": {
          "base_uri": "https://localhost:8080/"
        }
      },
      "source": [
        "import os\n",
        "import numpy as np\n",
        "import cv2\n",
        "import matplotlib.pyplot as plt\n",
        "import pickle\n",
        "from tqdm import tqdm\n",
        "\n",
        "import tensorflow as tf\n",
        "from tensorflow import keras\n",
        "from tensorflow.keras import datasets, layers, models, regularizers\n",
        "from tensorflow.keras.layers import *\n",
        "\n",
        "print(tf.version.VERSION)"
      ],
      "execution_count": 11,
      "outputs": [
        {
          "output_type": "stream",
          "name": "stdout",
          "text": [
            "2.9.2\n"
          ]
        }
      ]
    },
    {
      "cell_type": "code",
      "metadata": {
        "id": "V1FQTVeAuNiU",
        "colab": {
          "base_uri": "https://localhost:8080/"
        },
        "outputId": "b8e39f8e-a181-4595-9381-bf7647136419"
      },
      "source": [
        "# untar\n",
        "!tar -xvzf dataset.tar.gz\n",
        "\n",
        "# load train\n",
        "train_images = pickle.load(open('train_images.pkl', 'rb'))\n",
        "train_labels = pickle.load(open('train_labels.pkl', 'rb'))\n",
        "\n",
        "# load val\n",
        "val_images = pickle.load(open('val_images.pkl', 'rb'))\n",
        "val_labels = pickle.load(open('val_labels.pkl', 'rb'))"
      ],
      "execution_count": 12,
      "outputs": [
        {
          "output_type": "stream",
          "name": "stdout",
          "text": [
            "train_images.pkl\n",
            "train_labels.pkl\n",
            "val_images.pkl\n",
            "val_labels.pkl\n"
          ]
        }
      ]
    },
    {
      "cell_type": "markdown",
      "source": [
        "# Training\n",
        "BatchNorm is used initially to calculate channel scaling factors. BatchNorm dropped during pruning."
      ],
      "metadata": {
        "id": "KbUYoKyfNur8"
      }
    },
    {
      "cell_type": "code",
      "metadata": {
        "id": "KE9JuZDG4T94"
      },
      "source": [
        "model = models.Sequential()\n",
        "\n",
        "model.add(Conv2D(32, (3, 3), padding='same', kernel_regularizer=regularizers.l2(1e-5), input_shape=(25,25,3)))\n",
        "model.add(BatchNormalization(center=False))\n",
        "model.add(Activation('relu'))\n",
        "\n",
        "model.add(Conv2D(32, (3, 3), kernel_regularizer=regularizers.l2(1e-5)))\n",
        "model.add(BatchNormalization(center=False))\n",
        "model.add(Activation('relu'))\n",
        "model.add(MaxPooling2D(pool_size=(2, 2)))\n",
        "model.add(Dropout(0.25))\n",
        "\n",
        "model.add(Conv2D(64, (3, 3), padding='same', kernel_regularizer=regularizers.l2(1e-5)))\n",
        "model.add(BatchNormalization(center=False))\n",
        "model.add(Activation('relu'))\n",
        "\n",
        "model.add(Conv2D(64, (3, 3), kernel_regularizer=regularizers.l2(1e-5)))\n",
        "model.add(BatchNormalization(center=False))\n",
        "model.add(Activation('relu'))\n",
        "model.add(MaxPooling2D(pool_size=(2, 2)))\n",
        "model.add(Dropout(0.25))\n",
        "\n",
        "model.add(Flatten())\n",
        "\n",
        "model.add(Dense(512))\n",
        "model.add(Activation('relu'))\n",
        "model.add(Dropout(0.5))\n",
        "\n",
        "model.add(Dense(5))\n",
        "model.add(Activation('softmax'))"
      ],
      "execution_count": 13,
      "outputs": []
    },
    {
      "cell_type": "code",
      "metadata": {
        "id": "JTzcSoYl4T97",
        "colab": {
          "base_uri": "https://localhost:8080/"
        },
        "outputId": "35274a4e-c156-455b-bfeb-0cc7e084ff0b"
      },
      "source": [
        "print(model.summary())"
      ],
      "execution_count": 14,
      "outputs": [
        {
          "output_type": "stream",
          "name": "stdout",
          "text": [
            "Model: \"sequential_2\"\n",
            "_________________________________________________________________\n",
            " Layer (type)                Output Shape              Param #   \n",
            "=================================================================\n",
            " conv2d_8 (Conv2D)           (None, 25, 25, 32)        896       \n",
            "                                                                 \n",
            " batch_normalization_8 (Batc  (None, 25, 25, 32)       96        \n",
            " hNormalization)                                                 \n",
            "                                                                 \n",
            " activation_12 (Activation)  (None, 25, 25, 32)        0         \n",
            "                                                                 \n",
            " conv2d_9 (Conv2D)           (None, 23, 23, 32)        9248      \n",
            "                                                                 \n",
            " batch_normalization_9 (Batc  (None, 23, 23, 32)       96        \n",
            " hNormalization)                                                 \n",
            "                                                                 \n",
            " activation_13 (Activation)  (None, 23, 23, 32)        0         \n",
            "                                                                 \n",
            " max_pooling2d_4 (MaxPooling  (None, 11, 11, 32)       0         \n",
            " 2D)                                                             \n",
            "                                                                 \n",
            " dropout_6 (Dropout)         (None, 11, 11, 32)        0         \n",
            "                                                                 \n",
            " conv2d_10 (Conv2D)          (None, 11, 11, 64)        18496     \n",
            "                                                                 \n",
            " batch_normalization_10 (Bat  (None, 11, 11, 64)       192       \n",
            " chNormalization)                                                \n",
            "                                                                 \n",
            " activation_14 (Activation)  (None, 11, 11, 64)        0         \n",
            "                                                                 \n",
            " conv2d_11 (Conv2D)          (None, 9, 9, 64)          36928     \n",
            "                                                                 \n",
            " batch_normalization_11 (Bat  (None, 9, 9, 64)         192       \n",
            " chNormalization)                                                \n",
            "                                                                 \n",
            " activation_15 (Activation)  (None, 9, 9, 64)          0         \n",
            "                                                                 \n",
            " max_pooling2d_5 (MaxPooling  (None, 4, 4, 64)         0         \n",
            " 2D)                                                             \n",
            "                                                                 \n",
            " dropout_7 (Dropout)         (None, 4, 4, 64)          0         \n",
            "                                                                 \n",
            " flatten_2 (Flatten)         (None, 1024)              0         \n",
            "                                                                 \n",
            " dense_4 (Dense)             (None, 512)               524800    \n",
            "                                                                 \n",
            " activation_16 (Activation)  (None, 512)               0         \n",
            "                                                                 \n",
            " dropout_8 (Dropout)         (None, 512)               0         \n",
            "                                                                 \n",
            " dense_5 (Dense)             (None, 5)                 2565      \n",
            "                                                                 \n",
            " activation_17 (Activation)  (None, 5)                 0         \n",
            "                                                                 \n",
            "=================================================================\n",
            "Total params: 593,509\n",
            "Trainable params: 593,125\n",
            "Non-trainable params: 384\n",
            "_________________________________________________________________\n",
            "None\n"
          ]
        }
      ]
    },
    {
      "cell_type": "code",
      "metadata": {
        "id": "G9Nk_MAPqZPt",
        "colab": {
          "base_uri": "https://localhost:8080/"
        },
        "outputId": "5a5e4d67-385f-4075-c3bc-7d479ad90db7"
      },
      "source": [
        "model.compile(optimizer=keras.optimizers.Adam(learning_rate=0.0001, decay=1e-6),\n",
        "              loss=tf.keras.losses.SparseCategoricalCrossentropy(from_logits=True),\n",
        "              metrics=['accuracy'])\n",
        "\n",
        "history = model.fit(train_images, train_labels, batch_size=32, epochs=50,\n",
        "                    validation_data=(val_images, val_labels))"
      ],
      "execution_count": 15,
      "outputs": [
        {
          "output_type": "stream",
          "name": "stdout",
          "text": [
            "Epoch 1/50\n",
            "703/703 [==============================] - 5s 6ms/step - loss: 1.6523 - accuracy: 0.3164 - val_loss: 1.3906 - val_accuracy: 0.4158\n",
            "Epoch 2/50\n",
            "703/703 [==============================] - 4s 5ms/step - loss: 1.3860 - accuracy: 0.4060 - val_loss: 1.2754 - val_accuracy: 0.4681\n",
            "Epoch 3/50\n",
            "703/703 [==============================] - 4s 5ms/step - loss: 1.3105 - accuracy: 0.4457 - val_loss: 1.2218 - val_accuracy: 0.4875\n",
            "Epoch 4/50\n",
            "703/703 [==============================] - 4s 6ms/step - loss: 1.2615 - accuracy: 0.4735 - val_loss: 1.1906 - val_accuracy: 0.4970\n",
            "Epoch 5/50\n",
            "703/703 [==============================] - 4s 6ms/step - loss: 1.2245 - accuracy: 0.4937 - val_loss: 1.2013 - val_accuracy: 0.4958\n",
            "Epoch 6/50\n",
            "703/703 [==============================] - 5s 7ms/step - loss: 1.1799 - accuracy: 0.5175 - val_loss: 1.1850 - val_accuracy: 0.5030\n",
            "Epoch 7/50\n",
            "703/703 [==============================] - 4s 6ms/step - loss: 1.1539 - accuracy: 0.5273 - val_loss: 1.0968 - val_accuracy: 0.5509\n",
            "Epoch 8/50\n",
            "703/703 [==============================] - 4s 5ms/step - loss: 1.1249 - accuracy: 0.5446 - val_loss: 1.0670 - val_accuracy: 0.5636\n",
            "Epoch 9/50\n",
            "703/703 [==============================] - 4s 6ms/step - loss: 1.0920 - accuracy: 0.5609 - val_loss: 1.0316 - val_accuracy: 0.5830\n",
            "Epoch 10/50\n",
            "703/703 [==============================] - 4s 5ms/step - loss: 1.0707 - accuracy: 0.5678 - val_loss: 1.0392 - val_accuracy: 0.5806\n",
            "Epoch 11/50\n",
            "703/703 [==============================] - 4s 6ms/step - loss: 1.0401 - accuracy: 0.5846 - val_loss: 0.9828 - val_accuracy: 0.6004\n",
            "Epoch 12/50\n",
            "703/703 [==============================] - 4s 6ms/step - loss: 1.0246 - accuracy: 0.5921 - val_loss: 1.0348 - val_accuracy: 0.5806\n",
            "Epoch 13/50\n",
            "703/703 [==============================] - 4s 5ms/step - loss: 0.9974 - accuracy: 0.6026 - val_loss: 1.0390 - val_accuracy: 0.5877\n",
            "Epoch 14/50\n",
            "703/703 [==============================] - 4s 6ms/step - loss: 0.9817 - accuracy: 0.6120 - val_loss: 1.0079 - val_accuracy: 0.6028\n",
            "Epoch 15/50\n",
            "703/703 [==============================] - 4s 6ms/step - loss: 0.9531 - accuracy: 0.6242 - val_loss: 0.9266 - val_accuracy: 0.6309\n",
            "Epoch 16/50\n",
            "703/703 [==============================] - 4s 6ms/step - loss: 0.9393 - accuracy: 0.6303 - val_loss: 0.9742 - val_accuracy: 0.6143\n",
            "Epoch 17/50\n",
            "703/703 [==============================] - 4s 6ms/step - loss: 0.9217 - accuracy: 0.6391 - val_loss: 0.9546 - val_accuracy: 0.6301\n",
            "Epoch 18/50\n",
            "703/703 [==============================] - 4s 6ms/step - loss: 0.9059 - accuracy: 0.6487 - val_loss: 0.9516 - val_accuracy: 0.6250\n",
            "Epoch 19/50\n",
            "703/703 [==============================] - 4s 5ms/step - loss: 0.8852 - accuracy: 0.6524 - val_loss: 0.8622 - val_accuracy: 0.6657\n",
            "Epoch 20/50\n",
            "703/703 [==============================] - 4s 5ms/step - loss: 0.8733 - accuracy: 0.6587 - val_loss: 0.9072 - val_accuracy: 0.6416\n",
            "Epoch 21/50\n",
            "703/703 [==============================] - 4s 5ms/step - loss: 0.8619 - accuracy: 0.6651 - val_loss: 0.9101 - val_accuracy: 0.6547\n",
            "Epoch 22/50\n",
            "703/703 [==============================] - 4s 6ms/step - loss: 0.8449 - accuracy: 0.6691 - val_loss: 0.9070 - val_accuracy: 0.6483\n",
            "Epoch 23/50\n",
            "703/703 [==============================] - 4s 6ms/step - loss: 0.8279 - accuracy: 0.6768 - val_loss: 0.8594 - val_accuracy: 0.6717\n",
            "Epoch 24/50\n",
            "703/703 [==============================] - 4s 5ms/step - loss: 0.8229 - accuracy: 0.6814 - val_loss: 0.8753 - val_accuracy: 0.6610\n",
            "Epoch 25/50\n",
            "703/703 [==============================] - 4s 5ms/step - loss: 0.8083 - accuracy: 0.6861 - val_loss: 0.8159 - val_accuracy: 0.6903\n",
            "Epoch 26/50\n",
            "703/703 [==============================] - 5s 7ms/step - loss: 0.7910 - accuracy: 0.6930 - val_loss: 0.8598 - val_accuracy: 0.6721\n",
            "Epoch 27/50\n",
            "703/703 [==============================] - 4s 5ms/step - loss: 0.7844 - accuracy: 0.6952 - val_loss: 0.8526 - val_accuracy: 0.6741\n",
            "Epoch 28/50\n",
            "703/703 [==============================] - 4s 5ms/step - loss: 0.7755 - accuracy: 0.6995 - val_loss: 0.8215 - val_accuracy: 0.6820\n",
            "Epoch 29/50\n",
            "703/703 [==============================] - 4s 6ms/step - loss: 0.7643 - accuracy: 0.7063 - val_loss: 0.8105 - val_accuracy: 0.6931\n",
            "Epoch 30/50\n",
            "703/703 [==============================] - 4s 5ms/step - loss: 0.7529 - accuracy: 0.7092 - val_loss: 0.7767 - val_accuracy: 0.6990\n",
            "Epoch 31/50\n",
            "703/703 [==============================] - 5s 6ms/step - loss: 0.7469 - accuracy: 0.7143 - val_loss: 0.8631 - val_accuracy: 0.6741\n",
            "Epoch 32/50\n",
            "703/703 [==============================] - 5s 7ms/step - loss: 0.7317 - accuracy: 0.7181 - val_loss: 0.7677 - val_accuracy: 0.7050\n",
            "Epoch 33/50\n",
            "703/703 [==============================] - 4s 6ms/step - loss: 0.7245 - accuracy: 0.7216 - val_loss: 0.7977 - val_accuracy: 0.7050\n",
            "Epoch 34/50\n",
            "703/703 [==============================] - 4s 5ms/step - loss: 0.7184 - accuracy: 0.7240 - val_loss: 1.0259 - val_accuracy: 0.6309\n",
            "Epoch 35/50\n",
            "703/703 [==============================] - 4s 5ms/step - loss: 0.7082 - accuracy: 0.7291 - val_loss: 0.8322 - val_accuracy: 0.6812\n",
            "Epoch 36/50\n",
            "703/703 [==============================] - 4s 5ms/step - loss: 0.6991 - accuracy: 0.7354 - val_loss: 0.7400 - val_accuracy: 0.7184\n",
            "Epoch 37/50\n",
            "703/703 [==============================] - 4s 6ms/step - loss: 0.6827 - accuracy: 0.7377 - val_loss: 0.7914 - val_accuracy: 0.7026\n",
            "Epoch 38/50\n",
            "703/703 [==============================] - 4s 6ms/step - loss: 0.6873 - accuracy: 0.7351 - val_loss: 0.7483 - val_accuracy: 0.7125\n",
            "Epoch 39/50\n",
            "703/703 [==============================] - 4s 5ms/step - loss: 0.6848 - accuracy: 0.7349 - val_loss: 0.8241 - val_accuracy: 0.6895\n",
            "Epoch 40/50\n",
            "703/703 [==============================] - 4s 5ms/step - loss: 0.6722 - accuracy: 0.7423 - val_loss: 0.8109 - val_accuracy: 0.6966\n",
            "Epoch 41/50\n",
            "703/703 [==============================] - 4s 5ms/step - loss: 0.6601 - accuracy: 0.7457 - val_loss: 0.7443 - val_accuracy: 0.7236\n",
            "Epoch 42/50\n",
            "703/703 [==============================] - 4s 6ms/step - loss: 0.6548 - accuracy: 0.7520 - val_loss: 0.7576 - val_accuracy: 0.7113\n",
            "Epoch 43/50\n",
            "703/703 [==============================] - 4s 5ms/step - loss: 0.6498 - accuracy: 0.7557 - val_loss: 0.7188 - val_accuracy: 0.7228\n",
            "Epoch 44/50\n",
            "703/703 [==============================] - 4s 6ms/step - loss: 0.6405 - accuracy: 0.7539 - val_loss: 0.7522 - val_accuracy: 0.7164\n",
            "Epoch 45/50\n",
            "703/703 [==============================] - 4s 5ms/step - loss: 0.6339 - accuracy: 0.7596 - val_loss: 0.7283 - val_accuracy: 0.7295\n",
            "Epoch 46/50\n",
            "703/703 [==============================] - 4s 6ms/step - loss: 0.6305 - accuracy: 0.7602 - val_loss: 0.7868 - val_accuracy: 0.7093\n",
            "Epoch 47/50\n",
            "703/703 [==============================] - 4s 6ms/step - loss: 0.6219 - accuracy: 0.7611 - val_loss: 0.7181 - val_accuracy: 0.7299\n",
            "Epoch 48/50\n",
            "703/703 [==============================] - 4s 6ms/step - loss: 0.6163 - accuracy: 0.7622 - val_loss: 0.7557 - val_accuracy: 0.7176\n",
            "Epoch 49/50\n",
            "703/703 [==============================] - 4s 6ms/step - loss: 0.6059 - accuracy: 0.7697 - val_loss: 0.7387 - val_accuracy: 0.7204\n",
            "Epoch 50/50\n",
            "703/703 [==============================] - 4s 5ms/step - loss: 0.6073 - accuracy: 0.7681 - val_loss: 0.9147 - val_accuracy: 0.6717\n"
          ]
        }
      ]
    },
    {
      "cell_type": "code",
      "metadata": {
        "id": "vOhpP7M24T9_",
        "colab": {
          "base_uri": "https://localhost:8080/"
        },
        "outputId": "8b6d713b-b5b2-4e3b-ad1b-4a4d54436fbc"
      },
      "source": [
        "results = model.evaluate(val_images, val_labels, batch_size=128)"
      ],
      "execution_count": 16,
      "outputs": [
        {
          "output_type": "stream",
          "name": "stdout",
          "text": [
            "20/20 [==============================] - 0s 10ms/step - loss: 0.9147 - accuracy: 0.6717\n"
          ]
        }
      ]
    },
    {
      "cell_type": "code",
      "source": [
        "model.save_weights('trained_model.h5')"
      ],
      "metadata": {
        "id": "vXFlwifHt2q2"
      },
      "execution_count": 17,
      "outputs": []
    },
    {
      "cell_type": "markdown",
      "source": [
        "# Pruning\n",
        "Channel scaling factors are first calculated from model with BatchNorm (using BatchNorm scaling factor) and if they are less than the threshold value, they are set to zero considering the corresponding channels are unimportant. The channel to be dropped are kept fixed while retraining assuming that the unimportant channels remain the same with/without BathcNorm and during retraining as well."
      ],
      "metadata": {
        "id": "XpyJ69InN1RK"
      }
    },
    {
      "cell_type": "code",
      "source": [
        "def sparsity(weights):\n",
        " \n",
        "    zero_weights = 0\n",
        "  \n",
        "    for i in range(len(weights)):\n",
        "      \n",
        "        curr_zero_weights = tf.reduce_sum((weights[i]==0)*1).numpy()\n",
        "        zero_weights += curr_zero_weights\n",
        "\n",
        "    return zero_weights / 592933"
      ],
      "metadata": {
        "id": "Ty4E_5wQTGUS"
      },
      "execution_count": 18,
      "outputs": []
    },
    {
      "cell_type": "code",
      "source": [
        "def get_nonbatchnorm_model(model):\n",
        "\n",
        "    new_model = models.Sequential()\n",
        "\n",
        "    for i, layer in enumerate(model.layers):\n",
        "        if not isinstance(layer, keras.layers.BatchNormalization):\n",
        "            new_model.add(layer)\n",
        "    \n",
        "    return new_model"
      ],
      "metadata": {
        "id": "hdkcCjQbQ6v0"
      },
      "execution_count": 19,
      "outputs": []
    },
    {
      "cell_type": "code",
      "metadata": {
        "id": "vjw94aij4T-C",
        "colab": {
          "base_uri": "https://localhost:8080/"
        },
        "outputId": "94d1000f-1699-4f7a-c0d7-5aa6a5a816e8"
      },
      "source": [
        "all_thres = np.arange(0.92, 1.05, 0.01)\n",
        "all_models = []\n",
        "loops = 2\n",
        "\n",
        "for thres in all_thres:\n",
        "\n",
        "    print('\\nthreshold', thres)\n",
        "\n",
        "    model.load_weights('trained_model.h5')\n",
        "    all_sparse_gamma = []\n",
        "\n",
        "    for i, layer in enumerate(model.layers):\n",
        "        if isinstance(layer, keras.layers.BatchNormalization):\n",
        "\n",
        "            gamma = layer.get_weights()[0]\n",
        "            sparse_gamma = (gamma > thres).astype(float)\n",
        "\n",
        "            # save un/important channels\n",
        "            all_sparse_gamma.append(sparse_gamma)\n",
        "\n",
        "            conv_weight = model.layers[i-1].get_weights()[0]\n",
        "            conv_bias = model.layers[i-1].get_weights()[1]\n",
        "\n",
        "            conv_weight *= sparse_gamma\n",
        "            conv_bias *= sparse_gamma\n",
        "\n",
        "            model.layers[i-1].set_weights([conv_weight, conv_bias])\n",
        "\n",
        "    pruned_model = get_nonbatchnorm_model(model)\n",
        "    pruned_model.compile(optimizer=keras.optimizers.Adam(learning_rate=0.00001, decay=1e-6),\n",
        "                        loss=tf.keras.losses.SparseCategoricalCrossentropy(from_logits=True),\n",
        "                        metrics=['accuracy'])\n",
        "\n",
        "    for i in tqdm(range(loops), total=loops):\n",
        "\n",
        "        history = pruned_model.fit(train_images, train_labels, batch_size=32, epochs=2,\n",
        "                                  validation_data=(val_images, val_labels))\n",
        "\n",
        "        # drop/keep convolution layer channel weights\n",
        "        conv_count = 0\n",
        "\n",
        "        for i, layer in enumerate(pruned_model.layers):\n",
        "            if isinstance(layer, keras.layers.Conv2D):\n",
        "\n",
        "                sparse_gamma = all_sparse_gamma[conv_count]\n",
        "                conv_count += 1\n",
        "\n",
        "                conv_weight = layer.get_weights()[0]\n",
        "                conv_bias = layer.get_weights()[1]\n",
        "\n",
        "                conv_weight *= sparse_gamma\n",
        "                conv_bias *= sparse_gamma\n",
        "\n",
        "                layer.set_weights([conv_weight, conv_bias])\n",
        "        \n",
        "        results = pruned_model.evaluate(val_images, val_labels, batch_size=128)\n",
        "    \n",
        "    all_models.append((thres, pruned_model, results, sparsity(pruned_model.get_weights())))"
      ],
      "execution_count": 20,
      "outputs": [
        {
          "output_type": "stream",
          "name": "stdout",
          "text": [
            "\n",
            "threshold 0.92\n"
          ]
        },
        {
          "output_type": "stream",
          "name": "stderr",
          "text": [
            "\r  0%|          | 0/2 [00:00<?, ?it/s]"
          ]
        },
        {
          "output_type": "stream",
          "name": "stdout",
          "text": [
            "Epoch 1/2\n",
            "703/703 [==============================] - 4s 5ms/step - loss: 1.4791 - accuracy: 0.3913 - val_loss: 1.2942 - val_accuracy: 0.4741\n",
            "Epoch 2/2\n",
            "703/703 [==============================] - 4s 5ms/step - loss: 1.1553 - accuracy: 0.5654 - val_loss: 1.0384 - val_accuracy: 0.6091\n",
            "20/20 [==============================] - 0s 5ms/step - loss: 1.0384 - accuracy: 0.6091\n"
          ]
        },
        {
          "output_type": "stream",
          "name": "stderr",
          "text": [
            "\r 50%|█████     | 1/2 [00:11<00:11, 11.31s/it]"
          ]
        },
        {
          "output_type": "stream",
          "name": "stdout",
          "text": [
            "Epoch 1/2\n",
            "703/703 [==============================] - 4s 5ms/step - loss: 1.0280 - accuracy: 0.6119 - val_loss: 0.9810 - val_accuracy: 0.6174\n",
            "Epoch 2/2\n",
            "703/703 [==============================] - 4s 5ms/step - loss: 0.9877 - accuracy: 0.6286 - val_loss: 0.9601 - val_accuracy: 0.6372\n",
            "20/20 [==============================] - 0s 5ms/step - loss: 0.9601 - accuracy: 0.6372\n"
          ]
        },
        {
          "output_type": "stream",
          "name": "stderr",
          "text": [
            "100%|██████████| 2/2 [00:21<00:00, 10.99s/it]"
          ]
        },
        {
          "output_type": "stream",
          "name": "stdout",
          "text": [
            "\n",
            "threshold 0.93\n"
          ]
        },
        {
          "output_type": "stream",
          "name": "stderr",
          "text": [
            "\n",
            "  0%|          | 0/2 [00:00<?, ?it/s]"
          ]
        },
        {
          "output_type": "stream",
          "name": "stdout",
          "text": [
            "Epoch 1/2\n",
            "703/703 [==============================] - 4s 5ms/step - loss: 1.4967 - accuracy: 0.3806 - val_loss: 1.3137 - val_accuracy: 0.4701\n",
            "Epoch 2/2\n",
            "703/703 [==============================] - 4s 5ms/step - loss: 1.1759 - accuracy: 0.5548 - val_loss: 1.0715 - val_accuracy: 0.5869\n",
            "20/20 [==============================] - 0s 4ms/step - loss: 1.0715 - accuracy: 0.5869\n"
          ]
        },
        {
          "output_type": "stream",
          "name": "stderr",
          "text": [
            "\r 50%|█████     | 1/2 [00:08<00:08,  8.41s/it]"
          ]
        },
        {
          "output_type": "stream",
          "name": "stdout",
          "text": [
            "Epoch 1/2\n",
            "703/703 [==============================] - 4s 5ms/step - loss: 1.0425 - accuracy: 0.6073 - val_loss: 0.9988 - val_accuracy: 0.6119\n",
            "Epoch 2/2\n",
            "703/703 [==============================] - 4s 5ms/step - loss: 0.9986 - accuracy: 0.6210 - val_loss: 0.9537 - val_accuracy: 0.6345\n",
            "20/20 [==============================] - 0s 5ms/step - loss: 0.9537 - accuracy: 0.6345\n"
          ]
        },
        {
          "output_type": "stream",
          "name": "stderr",
          "text": [
            "100%|██████████| 2/2 [00:19<00:00,  9.55s/it]"
          ]
        },
        {
          "output_type": "stream",
          "name": "stdout",
          "text": [
            "\n",
            "threshold 0.9400000000000001\n"
          ]
        },
        {
          "output_type": "stream",
          "name": "stderr",
          "text": [
            "\n",
            "  0%|          | 0/2 [00:00<?, ?it/s]"
          ]
        },
        {
          "output_type": "stream",
          "name": "stdout",
          "text": [
            "Epoch 1/2\n",
            "703/703 [==============================] - 4s 5ms/step - loss: 1.4645 - accuracy: 0.4250 - val_loss: 1.2793 - val_accuracy: 0.5069\n",
            "Epoch 2/2\n",
            "703/703 [==============================] - 4s 5ms/step - loss: 1.1590 - accuracy: 0.5697 - val_loss: 1.0581 - val_accuracy: 0.5949\n",
            "20/20 [==============================] - 0s 5ms/step - loss: 1.0581 - accuracy: 0.5949\n"
          ]
        },
        {
          "output_type": "stream",
          "name": "stderr",
          "text": [
            "\r 50%|█████     | 1/2 [00:11<00:11, 11.17s/it]"
          ]
        },
        {
          "output_type": "stream",
          "name": "stdout",
          "text": [
            "Epoch 1/2\n",
            "703/703 [==============================] - 4s 5ms/step - loss: 1.0454 - accuracy: 0.6058 - val_loss: 0.9811 - val_accuracy: 0.6333\n",
            "Epoch 2/2\n",
            "703/703 [==============================] - 4s 5ms/step - loss: 0.9998 - accuracy: 0.6218 - val_loss: 0.9578 - val_accuracy: 0.6360\n",
            "20/20 [==============================] - 0s 5ms/step - loss: 0.9578 - accuracy: 0.6360\n"
          ]
        },
        {
          "output_type": "stream",
          "name": "stderr",
          "text": [
            "100%|██████████| 2/2 [00:18<00:00,  9.43s/it]"
          ]
        },
        {
          "output_type": "stream",
          "name": "stdout",
          "text": [
            "\n",
            "threshold 0.9500000000000001\n"
          ]
        },
        {
          "output_type": "stream",
          "name": "stderr",
          "text": [
            "\n",
            "  0%|          | 0/2 [00:00<?, ?it/s]"
          ]
        },
        {
          "output_type": "stream",
          "name": "stdout",
          "text": [
            "Epoch 1/2\n",
            "703/703 [==============================] - 4s 5ms/step - loss: 1.4804 - accuracy: 0.4012 - val_loss: 1.3012 - val_accuracy: 0.4994\n",
            "Epoch 2/2\n",
            "703/703 [==============================] - 4s 5ms/step - loss: 1.1998 - accuracy: 0.5459 - val_loss: 1.0970 - val_accuracy: 0.5897\n",
            "20/20 [==============================] - 0s 5ms/step - loss: 1.0970 - accuracy: 0.5897\n"
          ]
        },
        {
          "output_type": "stream",
          "name": "stderr",
          "text": [
            "\r 50%|█████     | 1/2 [00:11<00:11, 11.29s/it]"
          ]
        },
        {
          "output_type": "stream",
          "name": "stdout",
          "text": [
            "Epoch 1/2\n",
            "703/703 [==============================] - 4s 5ms/step - loss: 1.0858 - accuracy: 0.5862 - val_loss: 1.0244 - val_accuracy: 0.6131\n",
            "Epoch 2/2\n",
            "703/703 [==============================] - 3s 5ms/step - loss: 1.0393 - accuracy: 0.6041 - val_loss: 0.9891 - val_accuracy: 0.6226\n",
            "20/20 [==============================] - 0s 5ms/step - loss: 0.9891 - accuracy: 0.6226\n"
          ]
        },
        {
          "output_type": "stream",
          "name": "stderr",
          "text": [
            "100%|██████████| 2/2 [00:21<00:00, 10.97s/it]"
          ]
        },
        {
          "output_type": "stream",
          "name": "stdout",
          "text": [
            "\n",
            "threshold 0.9600000000000001\n"
          ]
        },
        {
          "output_type": "stream",
          "name": "stderr",
          "text": [
            "\n",
            "  0%|          | 0/2 [00:00<?, ?it/s]"
          ]
        },
        {
          "output_type": "stream",
          "name": "stdout",
          "text": [
            "Epoch 1/2\n",
            "703/703 [==============================] - 5s 5ms/step - loss: 1.5197 - accuracy: 0.3621 - val_loss: 1.3927 - val_accuracy: 0.4958\n",
            "Epoch 2/2\n",
            "703/703 [==============================] - 4s 5ms/step - loss: 1.2881 - accuracy: 0.5086 - val_loss: 1.1798 - val_accuracy: 0.5612\n",
            "20/20 [==============================] - 0s 4ms/step - loss: 1.1798 - accuracy: 0.5612\n"
          ]
        },
        {
          "output_type": "stream",
          "name": "stderr",
          "text": [
            "\r 50%|█████     | 1/2 [00:08<00:08,  8.73s/it]"
          ]
        },
        {
          "output_type": "stream",
          "name": "stdout",
          "text": [
            "Epoch 1/2\n",
            "703/703 [==============================] - 4s 5ms/step - loss: 1.1625 - accuracy: 0.5510 - val_loss: 1.1028 - val_accuracy: 0.5683\n",
            "Epoch 2/2\n",
            "703/703 [==============================] - 4s 5ms/step - loss: 1.1081 - accuracy: 0.5728 - val_loss: 1.0467 - val_accuracy: 0.5968\n",
            "20/20 [==============================] - 0s 5ms/step - loss: 1.0467 - accuracy: 0.5968\n"
          ]
        },
        {
          "output_type": "stream",
          "name": "stderr",
          "text": [
            "100%|██████████| 2/2 [00:19<00:00,  9.70s/it]"
          ]
        },
        {
          "output_type": "stream",
          "name": "stdout",
          "text": [
            "\n",
            "threshold 0.9700000000000001\n"
          ]
        },
        {
          "output_type": "stream",
          "name": "stderr",
          "text": [
            "\n",
            "  0%|          | 0/2 [00:00<?, ?it/s]"
          ]
        },
        {
          "output_type": "stream",
          "name": "stdout",
          "text": [
            "Epoch 1/2\n",
            "703/703 [==============================] - 4s 5ms/step - loss: 1.5404 - accuracy: 0.3426 - val_loss: 1.4488 - val_accuracy: 0.4388\n",
            "Epoch 2/2\n",
            "703/703 [==============================] - 4s 5ms/step - loss: 1.3634 - accuracy: 0.4662 - val_loss: 1.2625 - val_accuracy: 0.5065\n",
            "20/20 [==============================] - 0s 5ms/step - loss: 1.2625 - accuracy: 0.5065\n"
          ]
        },
        {
          "output_type": "stream",
          "name": "stderr",
          "text": [
            "\r 50%|█████     | 1/2 [00:08<00:08,  8.43s/it]"
          ]
        },
        {
          "output_type": "stream",
          "name": "stdout",
          "text": [
            "Epoch 1/2\n",
            "703/703 [==============================] - 4s 5ms/step - loss: 1.2452 - accuracy: 0.5133 - val_loss: 1.1693 - val_accuracy: 0.5378\n",
            "Epoch 2/2\n",
            "703/703 [==============================] - 4s 5ms/step - loss: 1.1800 - accuracy: 0.5349 - val_loss: 1.1213 - val_accuracy: 0.5505\n",
            "20/20 [==============================] - 0s 4ms/step - loss: 1.1213 - accuracy: 0.5505\n"
          ]
        },
        {
          "output_type": "stream",
          "name": "stderr",
          "text": [
            "100%|██████████| 2/2 [00:16<00:00,  8.07s/it]"
          ]
        },
        {
          "output_type": "stream",
          "name": "stdout",
          "text": [
            "\n",
            "threshold 0.9800000000000001\n"
          ]
        },
        {
          "output_type": "stream",
          "name": "stderr",
          "text": [
            "\n",
            "  0%|          | 0/2 [00:00<?, ?it/s]"
          ]
        },
        {
          "output_type": "stream",
          "name": "stdout",
          "text": [
            "Epoch 1/2\n",
            "703/703 [==============================] - 4s 5ms/step - loss: 1.5646 - accuracy: 0.3412 - val_loss: 1.5050 - val_accuracy: 0.4123\n",
            "Epoch 2/2\n",
            "703/703 [==============================] - 4s 5ms/step - loss: 1.4352 - accuracy: 0.4254 - val_loss: 1.3473 - val_accuracy: 0.4903\n",
            "20/20 [==============================] - 0s 4ms/step - loss: 1.3473 - accuracy: 0.4903\n"
          ]
        },
        {
          "output_type": "stream",
          "name": "stderr",
          "text": [
            "\r 50%|█████     | 1/2 [00:08<00:08,  8.31s/it]"
          ]
        },
        {
          "output_type": "stream",
          "name": "stdout",
          "text": [
            "Epoch 1/2\n",
            "703/703 [==============================] - 4s 5ms/step - loss: 1.3256 - accuracy: 0.4781 - val_loss: 1.2546 - val_accuracy: 0.5129\n",
            "Epoch 2/2\n",
            "703/703 [==============================] - 4s 5ms/step - loss: 1.2576 - accuracy: 0.5074 - val_loss: 1.1885 - val_accuracy: 0.5343\n",
            "20/20 [==============================] - 0s 4ms/step - loss: 1.1885 - accuracy: 0.5343\n"
          ]
        },
        {
          "output_type": "stream",
          "name": "stderr",
          "text": [
            "100%|██████████| 2/2 [00:16<00:00,  8.06s/it]"
          ]
        },
        {
          "output_type": "stream",
          "name": "stdout",
          "text": [
            "\n",
            "threshold 0.9900000000000001\n"
          ]
        },
        {
          "output_type": "stream",
          "name": "stderr",
          "text": [
            "\n",
            "  0%|          | 0/2 [00:00<?, ?it/s]"
          ]
        },
        {
          "output_type": "stream",
          "name": "stdout",
          "text": [
            "Epoch 1/2\n",
            "703/703 [==============================] - 4s 5ms/step - loss: 1.5791 - accuracy: 0.3000 - val_loss: 1.5431 - val_accuracy: 0.3461\n",
            "Epoch 2/2\n",
            "703/703 [==============================] - 4s 5ms/step - loss: 1.5089 - accuracy: 0.3249 - val_loss: 1.4455 - val_accuracy: 0.4154\n",
            "20/20 [==============================] - 0s 5ms/step - loss: 1.4455 - accuracy: 0.4154\n"
          ]
        },
        {
          "output_type": "stream",
          "name": "stderr",
          "text": [
            "\r 50%|█████     | 1/2 [00:11<00:11, 11.18s/it]"
          ]
        },
        {
          "output_type": "stream",
          "name": "stdout",
          "text": [
            "Epoch 1/2\n",
            "703/703 [==============================] - 4s 5ms/step - loss: 1.4188 - accuracy: 0.4085 - val_loss: 1.3544 - val_accuracy: 0.4677\n",
            "Epoch 2/2\n",
            "703/703 [==============================] - 4s 5ms/step - loss: 1.3639 - accuracy: 0.4432 - val_loss: 1.3135 - val_accuracy: 0.4661\n",
            "20/20 [==============================] - 0s 5ms/step - loss: 1.3135 - accuracy: 0.4661\n"
          ]
        },
        {
          "output_type": "stream",
          "name": "stderr",
          "text": [
            "100%|██████████| 2/2 [00:18<00:00,  9.49s/it]"
          ]
        },
        {
          "output_type": "stream",
          "name": "stdout",
          "text": [
            "\n",
            "threshold 1.0\n"
          ]
        },
        {
          "output_type": "stream",
          "name": "stderr",
          "text": [
            "\n",
            "  0%|          | 0/2 [00:00<?, ?it/s]"
          ]
        },
        {
          "output_type": "stream",
          "name": "stdout",
          "text": [
            "Epoch 1/2\n",
            "703/703 [==============================] - 5s 6ms/step - loss: 1.5852 - accuracy: 0.2772 - val_loss: 1.5595 - val_accuracy: 0.3279\n",
            "Epoch 2/2\n",
            "703/703 [==============================] - 4s 5ms/step - loss: 1.5428 - accuracy: 0.3048 - val_loss: 1.5033 - val_accuracy: 0.3275\n",
            "20/20 [==============================] - 0s 5ms/step - loss: 1.5033 - accuracy: 0.3275\n"
          ]
        },
        {
          "output_type": "stream",
          "name": "stderr",
          "text": [
            "\r 50%|█████     | 1/2 [00:11<00:11, 11.24s/it]"
          ]
        },
        {
          "output_type": "stream",
          "name": "stdout",
          "text": [
            "Epoch 1/2\n",
            "703/703 [==============================] - 4s 5ms/step - loss: 1.4868 - accuracy: 0.3308 - val_loss: 1.4345 - val_accuracy: 0.4135\n",
            "Epoch 2/2\n",
            "703/703 [==============================] - 4s 5ms/step - loss: 1.4289 - accuracy: 0.3957 - val_loss: 1.3763 - val_accuracy: 0.4448\n",
            "20/20 [==============================] - 0s 4ms/step - loss: 1.3763 - accuracy: 0.4448\n"
          ]
        },
        {
          "output_type": "stream",
          "name": "stderr",
          "text": [
            "100%|██████████| 2/2 [00:18<00:00,  9.46s/it]"
          ]
        },
        {
          "output_type": "stream",
          "name": "stdout",
          "text": [
            "\n",
            "threshold 1.0100000000000002\n"
          ]
        },
        {
          "output_type": "stream",
          "name": "stderr",
          "text": [
            "\n",
            "  0%|          | 0/2 [00:00<?, ?it/s]"
          ]
        },
        {
          "output_type": "stream",
          "name": "stdout",
          "text": [
            "Epoch 1/2\n",
            "703/703 [==============================] - 6s 8ms/step - loss: 1.5991 - accuracy: 0.2671 - val_loss: 1.5865 - val_accuracy: 0.3311\n",
            "Epoch 2/2\n",
            "703/703 [==============================] - 4s 5ms/step - loss: 1.5726 - accuracy: 0.3000 - val_loss: 1.5438 - val_accuracy: 0.3453\n",
            "20/20 [==============================] - 0s 5ms/step - loss: 1.5438 - accuracy: 0.3453\n"
          ]
        },
        {
          "output_type": "stream",
          "name": "stderr",
          "text": [
            "\r 50%|█████     | 1/2 [00:11<00:11, 11.17s/it]"
          ]
        },
        {
          "output_type": "stream",
          "name": "stdout",
          "text": [
            "Epoch 1/2\n",
            "703/703 [==============================] - 4s 5ms/step - loss: 1.5214 - accuracy: 0.3267 - val_loss: 1.4779 - val_accuracy: 0.4048\n",
            "Epoch 2/2\n",
            "703/703 [==============================] - 4s 5ms/step - loss: 1.4582 - accuracy: 0.3849 - val_loss: 1.4090 - val_accuracy: 0.4218\n",
            "20/20 [==============================] - 0s 5ms/step - loss: 1.4090 - accuracy: 0.4218\n"
          ]
        },
        {
          "output_type": "stream",
          "name": "stderr",
          "text": [
            "100%|██████████| 2/2 [00:21<00:00, 10.88s/it]"
          ]
        },
        {
          "output_type": "stream",
          "name": "stdout",
          "text": [
            "\n",
            "threshold 1.02\n"
          ]
        },
        {
          "output_type": "stream",
          "name": "stderr",
          "text": [
            "\n",
            "  0%|          | 0/2 [00:00<?, ?it/s]"
          ]
        },
        {
          "output_type": "stream",
          "name": "stdout",
          "text": [
            "Epoch 1/2\n",
            "703/703 [==============================] - 5s 6ms/step - loss: 1.6059 - accuracy: 0.2367 - val_loss: 1.6006 - val_accuracy: 0.2752\n",
            "Epoch 2/2\n",
            "703/703 [==============================] - 4s 5ms/step - loss: 1.5914 - accuracy: 0.2958 - val_loss: 1.5738 - val_accuracy: 0.3414\n",
            "20/20 [==============================] - 0s 4ms/step - loss: 1.5738 - accuracy: 0.3414\n"
          ]
        },
        {
          "output_type": "stream",
          "name": "stderr",
          "text": [
            "\r 50%|█████     | 1/2 [00:08<00:08,  8.61s/it]"
          ]
        },
        {
          "output_type": "stream",
          "name": "stdout",
          "text": [
            "Epoch 1/2\n",
            "703/703 [==============================] - 4s 5ms/step - loss: 1.5585 - accuracy: 0.3414 - val_loss: 1.5324 - val_accuracy: 0.3556\n",
            "Epoch 2/2\n",
            "703/703 [==============================] - 4s 5ms/step - loss: 1.5194 - accuracy: 0.3507 - val_loss: 1.4902 - val_accuracy: 0.3648\n",
            "20/20 [==============================] - 0s 4ms/step - loss: 1.4901 - accuracy: 0.3648\n"
          ]
        },
        {
          "output_type": "stream",
          "name": "stderr",
          "text": [
            "100%|██████████| 2/2 [00:16<00:00,  8.18s/it]"
          ]
        },
        {
          "output_type": "stream",
          "name": "stdout",
          "text": [
            "\n",
            "threshold 1.0300000000000002\n"
          ]
        },
        {
          "output_type": "stream",
          "name": "stderr",
          "text": [
            "\n",
            "  0%|          | 0/2 [00:00<?, ?it/s]"
          ]
        },
        {
          "output_type": "stream",
          "name": "stdout",
          "text": [
            "Epoch 1/2\n",
            "703/703 [==============================] - 4s 5ms/step - loss: 1.6086 - accuracy: 0.2019 - val_loss: 1.6059 - val_accuracy: 0.2012\n",
            "Epoch 2/2\n",
            "703/703 [==============================] - 4s 5ms/step - loss: 1.5993 - accuracy: 0.2495 - val_loss: 1.5897 - val_accuracy: 0.2657\n",
            "20/20 [==============================] - 0s 4ms/step - loss: 1.5897 - accuracy: 0.2657\n"
          ]
        },
        {
          "output_type": "stream",
          "name": "stderr",
          "text": [
            "\r 50%|█████     | 1/2 [00:08<00:08,  8.50s/it]"
          ]
        },
        {
          "output_type": "stream",
          "name": "stdout",
          "text": [
            "Epoch 1/2\n",
            "703/703 [==============================] - 4s 5ms/step - loss: 1.5795 - accuracy: 0.2879 - val_loss: 1.5655 - val_accuracy: 0.3208\n",
            "Epoch 2/2\n",
            "703/703 [==============================] - 4s 5ms/step - loss: 1.5571 - accuracy: 0.3088 - val_loss: 1.5417 - val_accuracy: 0.3204\n",
            "20/20 [==============================] - 0s 5ms/step - loss: 1.5417 - accuracy: 0.3204\n"
          ]
        },
        {
          "output_type": "stream",
          "name": "stderr",
          "text": [
            "100%|██████████| 2/2 [00:19<00:00,  9.55s/it]"
          ]
        },
        {
          "output_type": "stream",
          "name": "stdout",
          "text": [
            "\n",
            "threshold 1.04\n"
          ]
        },
        {
          "output_type": "stream",
          "name": "stderr",
          "text": [
            "\n",
            "  0%|          | 0/2 [00:00<?, ?it/s]"
          ]
        },
        {
          "output_type": "stream",
          "name": "stdout",
          "text": [
            "Epoch 1/2\n",
            "703/703 [==============================] - 4s 5ms/step - loss: 1.6104 - accuracy: 0.2008 - val_loss: 1.6109 - val_accuracy: 0.1925\n",
            "Epoch 2/2\n",
            "703/703 [==============================] - 4s 5ms/step - loss: 1.6097 - accuracy: 0.2008 - val_loss: 1.6096 - val_accuracy: 0.1925\n",
            "20/20 [==============================] - 0s 5ms/step - loss: 1.6096 - accuracy: 0.1925\n"
          ]
        },
        {
          "output_type": "stream",
          "name": "stderr",
          "text": [
            "\r 50%|█████     | 1/2 [00:08<00:08,  8.51s/it]"
          ]
        },
        {
          "output_type": "stream",
          "name": "stdout",
          "text": [
            "Epoch 1/2\n",
            "703/703 [==============================] - 4s 5ms/step - loss: 1.6078 - accuracy: 0.2020 - val_loss: 1.6067 - val_accuracy: 0.1949\n",
            "Epoch 2/2\n",
            "703/703 [==============================] - 4s 5ms/step - loss: 1.6041 - accuracy: 0.2229 - val_loss: 1.6018 - val_accuracy: 0.2246\n",
            "20/20 [==============================] - 0s 4ms/step - loss: 1.6018 - accuracy: 0.2246\n"
          ]
        },
        {
          "output_type": "stream",
          "name": "stderr",
          "text": [
            "100%|██████████| 2/2 [00:16<00:00,  8.11s/it]\n"
          ]
        }
      ]
    },
    {
      "cell_type": "markdown",
      "source": [
        "# Pareto"
      ],
      "metadata": {
        "id": "sQU5TtP09VIU"
      }
    },
    {
      "cell_type": "code",
      "source": [
        "accs = []\n",
        "spars = []\n",
        "\n",
        "for i in all_models:\n",
        "\n",
        "    accs.append(i[2][1])\n",
        "    spars.append(i[3])"
      ],
      "metadata": {
        "id": "SHla_FQWX4sY"
      },
      "execution_count": 21,
      "outputs": []
    },
    {
      "cell_type": "code",
      "source": [
        "plt.plot(spars, accs)\n",
        "plt.xlabel('Sparsities')\n",
        "plt.ylabel('Accuracies')\n",
        "plt.title('Network Slimming')"
      ],
      "metadata": {
        "colab": {
          "base_uri": "https://localhost:8080/",
          "height": 312
        },
        "id": "a4nRg8skYMki",
        "outputId": "34a4e225-3e9c-4e19-ea1a-5adf48c92505"
      },
      "execution_count": 22,
      "outputs": [
        {
          "output_type": "execute_result",
          "data": {
            "text/plain": [
              "Text(0.5, 1.0, 'Network Slimming')"
            ]
          },
          "metadata": {},
          "execution_count": 22
        },
        {
          "output_type": "display_data",
          "data": {
            "text/plain": [
              "<Figure size 432x288 with 1 Axes>"
            ],
            "image/png": "[encoded data removed]"
          },
          "metadata": {
            "needs_background": "light"
          }
        }
      ]
    },
    {
      "cell_type": "code",
      "source": [
        "np.savetxt('ns_accuracies.csv', accs, delimiter=',')\n",
        "np.savetxt('ns_sparsities.csv', spars, delimiter=',')"
      ],
      "metadata": {
        "id": "7viSkLCEYtAu"
      },
      "execution_count": 23,
      "outputs": []
    },
    {
      "cell_type": "markdown",
      "source": [
        "# Pick Best Model"
      ],
      "metadata": {
        "id": "4kEFC5-Q9QH3"
      }
    },
    {
      "cell_type": "code",
      "metadata": {
        "id": "MPiJ_b1S4T-I"
      },
      "source": [
        "def score(acc, sparsity):\n",
        "\n",
        "    return (acc + sparsity) / 2"
      ],
      "execution_count": 25,
      "outputs": []
    },
    {
      "cell_type": "code",
      "source": [
        "# get model with best score\n",
        "all_models.sort(key=lambda m: score(m[2][1], m[3]))\n",
        "\n",
        "# final network without BatchNorm\n",
        "best_model = all_models[-1][1]"
      ],
      "metadata": {
        "id": "sXXycGvkWjhE"
      },
      "execution_count": 26,
      "outputs": []
    },
    {
      "cell_type": "code",
      "source": [
        "print(best_model.summary())"
      ],
      "metadata": {
        "colab": {
          "base_uri": "https://localhost:8080/"
        },
        "id": "s8xB5GPOWoJy",
        "outputId": "9db0918f-92b5-4017-d275-e95cec1c5d89"
      },
      "execution_count": 27,
      "outputs": [
        {
          "output_type": "stream",
          "name": "stdout",
          "text": [
            "Model: \"sequential_5\"\n",
            "_________________________________________________________________\n",
            " Layer (type)                Output Shape              Param #   \n",
            "=================================================================\n",
            " conv2d_8 (Conv2D)           (None, 25, 25, 32)        896       \n",
            "                                                                 \n",
            " activation_12 (Activation)  (None, 25, 25, 32)        0         \n",
            "                                                                 \n",
            " conv2d_9 (Conv2D)           (None, 23, 23, 32)        9248      \n",
            "                                                                 \n",
            " activation_13 (Activation)  (None, 23, 23, 32)        0         \n",
            "                                                                 \n",
            " max_pooling2d_4 (MaxPooling  (None, 11, 11, 32)       0         \n",
            " 2D)                                                             \n",
            "                                                                 \n",
            " dropout_6 (Dropout)         (None, 11, 11, 32)        0         \n",
            "                                                                 \n",
            " conv2d_10 (Conv2D)          (None, 11, 11, 64)        18496     \n",
            "                                                                 \n",
            " activation_14 (Activation)  (None, 11, 11, 64)        0         \n",
            "                                                                 \n",
            " conv2d_11 (Conv2D)          (None, 9, 9, 64)          36928     \n",
            "                                                                 \n",
            " activation_15 (Activation)  (None, 9, 9, 64)          0         \n",
            "                                                                 \n",
            " max_pooling2d_5 (MaxPooling  (None, 4, 4, 64)         0         \n",
            " 2D)                                                             \n",
            "                                                                 \n",
            " dropout_7 (Dropout)         (None, 4, 4, 64)          0         \n",
            "                                                                 \n",
            " flatten_2 (Flatten)         (None, 1024)              0         \n",
            "                                                                 \n",
            " dense_4 (Dense)             (None, 512)               524800    \n",
            "                                                                 \n",
            " activation_16 (Activation)  (None, 512)               0         \n",
            "                                                                 \n",
            " dropout_8 (Dropout)         (None, 512)               0         \n",
            "                                                                 \n",
            " dense_5 (Dense)             (None, 5)                 2565      \n",
            "                                                                 \n",
            " activation_17 (Activation)  (None, 5)                 0         \n",
            "                                                                 \n",
            "=================================================================\n",
            "Total params: 592,933\n",
            "Trainable params: 592,933\n",
            "Non-trainable params: 0\n",
            "_________________________________________________________________\n",
            "None\n"
          ]
        }
      ]
    },
    {
      "cell_type": "code",
      "metadata": {
        "id": "wMSKQW4k4T-G",
        "outputId": "79d93d74-0dd0-41fc-dd3a-cb99f2778cd6",
        "colab": {
          "base_uri": "https://localhost:8080/"
        }
      },
      "source": [
        "results = best_model.evaluate(val_images, val_labels, batch_size=128)\n",
        "final_score = score(all_models[-1][2][1], all_models[-1][3])\n",
        "\n",
        "print('threshold:', all_models[-1][0])\n",
        "print('results: ', all_models[-1][2])\n",
        "print('sparsity: ', all_models[-1][3])\n",
        "print('final_score', final_score)\n",
        "\n",
        "best_model.save_weights('my_model_weights_3.h5')"
      ],
      "execution_count": 28,
      "outputs": [
        {
          "output_type": "stream",
          "name": "stdout",
          "text": [
            "20/20 [==============================] - 0s 7ms/step - loss: 1.6018 - accuracy: 0.2246\n",
            "threshold: 0.9400000000000001\n",
            "results:  [0.957817554473877, 0.6360396146774292]\n",
            "sparsity:  0.006611202277491723\n",
            "final_score 0.32132540847746044\n"
          ]
        }
      ]
    },
    {
      "cell_type": "code",
      "source": [],
      "metadata": {
        "id": "PARCwEd4bPtD"
      },
      "execution_count": null,
      "outputs": []
    }
  ]
}