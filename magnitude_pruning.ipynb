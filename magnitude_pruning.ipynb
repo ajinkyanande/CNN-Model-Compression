{
  "cells": [
    {
      "cell_type": "markdown",
      "metadata": {
        "id": "y-eC-sb34T9w"
      },
      "source": [
        "## Accelerate Inference: Neural Network Pruning"
      ]
    },
    {
      "cell_type": "code",
      "execution_count": 1,
      "metadata": {
        "colab": {
          "base_uri": "https://localhost:8080/"
        },
        "id": "Wpl3TZ2jl4Vh",
        "outputId": "08759a8f-31ae-43b8-8fe0-b5e0a33af6ee"
      },
      "outputs": [
        {
          "output_type": "stream",
          "name": "stdout",
          "text": [
            "Drive already mounted at /content/drive; to attempt to forcibly remount, call drive.mount(\"/content/drive\", force_remount=True).\n"
          ]
        }
      ],
      "source": [
        "from google.colab import drive\n",
        "drive.mount('/content/drive')"
      ]
    },
    {
      "cell_type": "code",
      "execution_count": 2,
      "metadata": {
        "colab": {
          "base_uri": "https://localhost:8080/"
        },
        "id": "L47XBZWm4T9x",
        "outputId": "2db60e8e-90ba-4357-a586-319b2aba2959"
      },
      "outputs": [
        {
          "output_type": "stream",
          "name": "stdout",
          "text": [
            "2.9.2\n"
          ]
        }
      ],
      "source": [
        "import os\n",
        "import numpy as np\n",
        "import cv2\n",
        "import matplotlib.pyplot as plt\n",
        "import pickle\n",
        "\n",
        "import tensorflow as tf\n",
        "from tensorflow import keras\n",
        "from tensorflow.keras import datasets, layers, models, regularizers\n",
        "from tensorflow.keras.layers import *\n",
        "\n",
        "print(tf.version.VERSION)"
      ]
    },
    {
      "cell_type": "code",
      "execution_count": 3,
      "metadata": {
        "id": "V1FQTVeAuNiU",
        "colab": {
          "base_uri": "https://localhost:8080/"
        },
        "outputId": "94c04cec-41a8-4366-9082-f0136e82f532"
      },
      "outputs": [
        {
          "output_type": "stream",
          "name": "stdout",
          "text": [
            "train_images.pkl\n",
            "train_labels.pkl\n",
            "val_images.pkl\n",
            "val_labels.pkl\n"
          ]
        }
      ],
      "source": [
        "# untar\n",
        "# !tar -xvzf dataset.tar.gz\n",
        "!tar -xvzf '/content/drive/MyDrive/dataset.tar.gz'\n",
        "# load train\n",
        "train_images = pickle.load(open('train_images.pkl', 'rb'))\n",
        "train_labels = pickle.load(open('train_labels.pkl', 'rb'))\n",
        "# load val\n",
        "val_images = pickle.load(open('val_images.pkl', 'rb'))\n",
        "val_labels = pickle.load(open('val_labels.pkl', 'rb'))"
      ]
    },
    {
      "cell_type": "code",
      "execution_count": 4,
      "metadata": {
        "id": "KE9JuZDG4T94"
      },
      "outputs": [],
      "source": [
        "# Define the neural network architecture (don't change this)\n",
        "\n",
        "model = models.Sequential()\n",
        "model.add(Conv2D(32, (3, 3), padding='same', kernel_regularizer=regularizers.l2(1e-5), input_shape=(25,25,3)))\n",
        "model.add(Activation('relu'))\n",
        "model.add(Conv2D(32, (3, 3), kernel_regularizer=regularizers.l2(1e-5)))\n",
        "model.add(Activation('relu'))\n",
        "model.add(MaxPooling2D(pool_size=(2, 2)))\n",
        "model.add(Dropout(0.25))\n",
        "model.add(Conv2D(64, (3, 3), padding='same', kernel_regularizer=regularizers.l2(1e-5)))\n",
        "model.add(Activation('relu'))\n",
        "model.add(Conv2D(64, (3, 3), kernel_regularizer=regularizers.l2(1e-5)))\n",
        "model.add(Activation('relu'))\n",
        "model.add(MaxPooling2D(pool_size=(2, 2)))\n",
        "model.add(Dropout(0.25))\n",
        "model.add(Flatten())\n",
        "model.add(Dense(512))\n",
        "model.add(Activation('relu'))\n",
        "model.add(Dropout(0.5))\n",
        "model.add(Dense(5))\n",
        "model.add(Activation('softmax'))"
      ]
    },
    {
      "cell_type": "code",
      "execution_count": 5,
      "metadata": {
        "colab": {
          "base_uri": "https://localhost:8080/"
        },
        "id": "JTzcSoYl4T97",
        "outputId": "a18e6c49-3acd-4bcf-e341-b2740e31c948"
      },
      "outputs": [
        {
          "output_type": "stream",
          "name": "stdout",
          "text": [
            "Model: \"sequential\"\n",
            "_________________________________________________________________\n",
            " Layer (type)                Output Shape              Param #   \n",
            "=================================================================\n",
            " conv2d (Conv2D)             (None, 25, 25, 32)        896       \n",
            "                                                                 \n",
            " activation (Activation)     (None, 25, 25, 32)        0         \n",
            "                                                                 \n",
            " conv2d_1 (Conv2D)           (None, 23, 23, 32)        9248      \n",
            "                                                                 \n",
            " activation_1 (Activation)   (None, 23, 23, 32)        0         \n",
            "                                                                 \n",
            " max_pooling2d (MaxPooling2D  (None, 11, 11, 32)       0         \n",
            " )                                                               \n",
            "                                                                 \n",
            " dropout (Dropout)           (None, 11, 11, 32)        0         \n",
            "                                                                 \n",
            " conv2d_2 (Conv2D)           (None, 11, 11, 64)        18496     \n",
            "                                                                 \n",
            " activation_2 (Activation)   (None, 11, 11, 64)        0         \n",
            "                                                                 \n",
            " conv2d_3 (Conv2D)           (None, 9, 9, 64)          36928     \n",
            "                                                                 \n",
            " activation_3 (Activation)   (None, 9, 9, 64)          0         \n",
            "                                                                 \n",
            " max_pooling2d_1 (MaxPooling  (None, 4, 4, 64)         0         \n",
            " 2D)                                                             \n",
            "                                                                 \n",
            " dropout_1 (Dropout)         (None, 4, 4, 64)          0         \n",
            "                                                                 \n",
            " flatten (Flatten)           (None, 1024)              0         \n",
            "                                                                 \n",
            " dense (Dense)               (None, 512)               524800    \n",
            "                                                                 \n",
            " activation_4 (Activation)   (None, 512)               0         \n",
            "                                                                 \n",
            " dropout_2 (Dropout)         (None, 512)               0         \n",
            "                                                                 \n",
            " dense_1 (Dense)             (None, 5)                 2565      \n",
            "                                                                 \n",
            " activation_5 (Activation)   (None, 5)                 0         \n",
            "                                                                 \n",
            "=================================================================\n",
            "Total params: 592,933\n",
            "Trainable params: 592,933\n",
            "Non-trainable params: 0\n",
            "_________________________________________________________________\n",
            "None\n"
          ]
        }
      ],
      "source": [
        "print(model.summary())"
      ]
    },
    {
      "cell_type": "code",
      "execution_count": 6,
      "metadata": {
        "id": "G9Nk_MAPqZPt",
        "colab": {
          "base_uri": "https://localhost:8080/"
        },
        "outputId": "e6e86ab3-9961-454c-91c7-bede791a04f1"
      },
      "outputs": [
        {
          "output_type": "stream",
          "name": "stdout",
          "text": [
            "Epoch 1/50\n"
          ]
        },
        {
          "output_type": "stream",
          "name": "stderr",
          "text": [
            "/usr/local/lib/python3.8/dist-packages/tensorflow/python/util/dispatch.py:1082: UserWarning: \"`sparse_categorical_crossentropy` received `from_logits=True`, but the `output` argument was produced by a sigmoid or softmax activation and thus does not represent logits. Was this intended?\"\n",
            "  return dispatch_target(*args, **kwargs)\n"
          ]
        },
        {
          "output_type": "stream",
          "name": "stdout",
          "text": [
            "703/703 [==============================] - 8s 7ms/step - loss: 1.4751 - accuracy: 0.3344 - val_loss: 1.3371 - val_accuracy: 0.4309\n",
            "Epoch 2/50\n",
            "703/703 [==============================] - 4s 6ms/step - loss: 1.3318 - accuracy: 0.4275 - val_loss: 1.2590 - val_accuracy: 0.4570\n",
            "Epoch 3/50\n",
            "703/703 [==============================] - 4s 6ms/step - loss: 1.2672 - accuracy: 0.4655 - val_loss: 1.1972 - val_accuracy: 0.5065\n",
            "Epoch 4/50\n",
            "703/703 [==============================] - 4s 6ms/step - loss: 1.2226 - accuracy: 0.4911 - val_loss: 1.1599 - val_accuracy: 0.5204\n",
            "Epoch 5/50\n",
            "703/703 [==============================] - 4s 6ms/step - loss: 1.1905 - accuracy: 0.5073 - val_loss: 1.1296 - val_accuracy: 0.5343\n",
            "Epoch 6/50\n",
            "703/703 [==============================] - 4s 6ms/step - loss: 1.1593 - accuracy: 0.5292 - val_loss: 1.0966 - val_accuracy: 0.5541\n",
            "Epoch 7/50\n",
            "703/703 [==============================] - 4s 6ms/step - loss: 1.1274 - accuracy: 0.5390 - val_loss: 1.0843 - val_accuracy: 0.5529\n",
            "Epoch 8/50\n",
            "703/703 [==============================] - 4s 6ms/step - loss: 1.1021 - accuracy: 0.5546 - val_loss: 1.0632 - val_accuracy: 0.5648\n",
            "Epoch 9/50\n",
            "703/703 [==============================] - 4s 6ms/step - loss: 1.0810 - accuracy: 0.5632 - val_loss: 1.0584 - val_accuracy: 0.5683\n",
            "Epoch 10/50\n",
            "703/703 [==============================] - 4s 6ms/step - loss: 1.0557 - accuracy: 0.5767 - val_loss: 1.0095 - val_accuracy: 0.5933\n",
            "Epoch 11/50\n",
            "703/703 [==============================] - 4s 6ms/step - loss: 1.0398 - accuracy: 0.5868 - val_loss: 0.9868 - val_accuracy: 0.5972\n",
            "Epoch 12/50\n",
            "703/703 [==============================] - 4s 6ms/step - loss: 1.0190 - accuracy: 0.5980 - val_loss: 0.9738 - val_accuracy: 0.6083\n",
            "Epoch 13/50\n",
            "703/703 [==============================] - 4s 6ms/step - loss: 1.0048 - accuracy: 0.5979 - val_loss: 0.9643 - val_accuracy: 0.6099\n",
            "Epoch 14/50\n",
            "703/703 [==============================] - 4s 6ms/step - loss: 0.9847 - accuracy: 0.6126 - val_loss: 0.9816 - val_accuracy: 0.5937\n",
            "Epoch 15/50\n",
            "703/703 [==============================] - 4s 6ms/step - loss: 0.9759 - accuracy: 0.6173 - val_loss: 0.9315 - val_accuracy: 0.6281\n",
            "Epoch 16/50\n",
            "703/703 [==============================] - 4s 6ms/step - loss: 0.9582 - accuracy: 0.6256 - val_loss: 0.9602 - val_accuracy: 0.6174\n",
            "Epoch 17/50\n",
            "703/703 [==============================] - 4s 5ms/step - loss: 0.9477 - accuracy: 0.6313 - val_loss: 0.9186 - val_accuracy: 0.6376\n",
            "Epoch 18/50\n",
            "703/703 [==============================] - 4s 6ms/step - loss: 0.9333 - accuracy: 0.6380 - val_loss: 0.9057 - val_accuracy: 0.6372\n",
            "Epoch 19/50\n",
            "703/703 [==============================] - 4s 6ms/step - loss: 0.9194 - accuracy: 0.6439 - val_loss: 0.9117 - val_accuracy: 0.6337\n",
            "Epoch 20/50\n",
            "703/703 [==============================] - 4s 6ms/step - loss: 0.9069 - accuracy: 0.6486 - val_loss: 0.8883 - val_accuracy: 0.6440\n",
            "Epoch 21/50\n",
            "703/703 [==============================] - 4s 6ms/step - loss: 0.8954 - accuracy: 0.6546 - val_loss: 0.8792 - val_accuracy: 0.6444\n",
            "Epoch 22/50\n",
            "703/703 [==============================] - 4s 6ms/step - loss: 0.8850 - accuracy: 0.6586 - val_loss: 0.9153 - val_accuracy: 0.6384\n",
            "Epoch 23/50\n",
            "703/703 [==============================] - 4s 6ms/step - loss: 0.8725 - accuracy: 0.6637 - val_loss: 0.8679 - val_accuracy: 0.6614\n",
            "Epoch 24/50\n",
            "703/703 [==============================] - 4s 6ms/step - loss: 0.8590 - accuracy: 0.6689 - val_loss: 0.8775 - val_accuracy: 0.6535\n",
            "Epoch 25/50\n",
            "703/703 [==============================] - 4s 6ms/step - loss: 0.8479 - accuracy: 0.6757 - val_loss: 0.8602 - val_accuracy: 0.6578\n",
            "Epoch 26/50\n",
            "703/703 [==============================] - 4s 6ms/step - loss: 0.8342 - accuracy: 0.6800 - val_loss: 0.8409 - val_accuracy: 0.6669\n",
            "Epoch 27/50\n",
            "703/703 [==============================] - 4s 6ms/step - loss: 0.8277 - accuracy: 0.6812 - val_loss: 0.8231 - val_accuracy: 0.6756\n",
            "Epoch 28/50\n",
            "703/703 [==============================] - 4s 6ms/step - loss: 0.8220 - accuracy: 0.6857 - val_loss: 0.8257 - val_accuracy: 0.6745\n",
            "Epoch 29/50\n",
            "703/703 [==============================] - 4s 6ms/step - loss: 0.8088 - accuracy: 0.6926 - val_loss: 0.8223 - val_accuracy: 0.6737\n",
            "Epoch 30/50\n",
            "703/703 [==============================] - 4s 6ms/step - loss: 0.8005 - accuracy: 0.6954 - val_loss: 0.8618 - val_accuracy: 0.6594\n",
            "Epoch 31/50\n",
            "703/703 [==============================] - 4s 6ms/step - loss: 0.7837 - accuracy: 0.7006 - val_loss: 0.8053 - val_accuracy: 0.6784\n",
            "Epoch 32/50\n",
            "703/703 [==============================] - 4s 6ms/step - loss: 0.7794 - accuracy: 0.7016 - val_loss: 0.7955 - val_accuracy: 0.6832\n",
            "Epoch 33/50\n",
            "703/703 [==============================] - 4s 5ms/step - loss: 0.7735 - accuracy: 0.7040 - val_loss: 0.7884 - val_accuracy: 0.6903\n",
            "Epoch 34/50\n",
            "703/703 [==============================] - 4s 6ms/step - loss: 0.7624 - accuracy: 0.7095 - val_loss: 0.7904 - val_accuracy: 0.6939\n",
            "Epoch 35/50\n",
            "703/703 [==============================] - 4s 6ms/step - loss: 0.7501 - accuracy: 0.7142 - val_loss: 0.8087 - val_accuracy: 0.6875\n",
            "Epoch 36/50\n",
            "703/703 [==============================] - 4s 6ms/step - loss: 0.7507 - accuracy: 0.7124 - val_loss: 0.7955 - val_accuracy: 0.6895\n",
            "Epoch 37/50\n",
            "703/703 [==============================] - 4s 6ms/step - loss: 0.7376 - accuracy: 0.7218 - val_loss: 0.7704 - val_accuracy: 0.6982\n",
            "Epoch 38/50\n",
            "703/703 [==============================] - 4s 6ms/step - loss: 0.7210 - accuracy: 0.7309 - val_loss: 0.7860 - val_accuracy: 0.6939\n",
            "Epoch 39/50\n",
            "703/703 [==============================] - 4s 6ms/step - loss: 0.7249 - accuracy: 0.7258 - val_loss: 0.7972 - val_accuracy: 0.6931\n",
            "Epoch 40/50\n",
            "703/703 [==============================] - 4s 6ms/step - loss: 0.7163 - accuracy: 0.7313 - val_loss: 0.7602 - val_accuracy: 0.7121\n",
            "Epoch 41/50\n",
            "703/703 [==============================] - 5s 7ms/step - loss: 0.7082 - accuracy: 0.7337 - val_loss: 0.7586 - val_accuracy: 0.7057\n",
            "Epoch 42/50\n",
            "703/703 [==============================] - 4s 6ms/step - loss: 0.6996 - accuracy: 0.7344 - val_loss: 0.7735 - val_accuracy: 0.6970\n",
            "Epoch 43/50\n",
            "703/703 [==============================] - 4s 6ms/step - loss: 0.6852 - accuracy: 0.7411 - val_loss: 0.7616 - val_accuracy: 0.7057\n",
            "Epoch 44/50\n",
            "703/703 [==============================] - 4s 6ms/step - loss: 0.6842 - accuracy: 0.7426 - val_loss: 0.7485 - val_accuracy: 0.7101\n",
            "Epoch 45/50\n",
            "703/703 [==============================] - 4s 6ms/step - loss: 0.6746 - accuracy: 0.7457 - val_loss: 0.7420 - val_accuracy: 0.7156\n",
            "Epoch 46/50\n",
            "703/703 [==============================] - 4s 6ms/step - loss: 0.6658 - accuracy: 0.7489 - val_loss: 0.7617 - val_accuracy: 0.7077\n",
            "Epoch 47/50\n",
            "703/703 [==============================] - 4s 6ms/step - loss: 0.6635 - accuracy: 0.7533 - val_loss: 0.7414 - val_accuracy: 0.7184\n",
            "Epoch 48/50\n",
            "703/703 [==============================] - 4s 6ms/step - loss: 0.6584 - accuracy: 0.7514 - val_loss: 0.7514 - val_accuracy: 0.7141\n",
            "Epoch 49/50\n",
            "703/703 [==============================] - 4s 6ms/step - loss: 0.6439 - accuracy: 0.7576 - val_loss: 0.7733 - val_accuracy: 0.7089\n",
            "Epoch 50/50\n",
            "703/703 [==============================] - 4s 6ms/step - loss: 0.6422 - accuracy: 0.7598 - val_loss: 0.7303 - val_accuracy: 0.7196\n"
          ]
        }
      ],
      "source": [
        "# you can use the default hyper-parameters for training, \n",
        "# and val accuracy ~59% after 25 epochs and > 63% after 50 epochs\n",
        "\n",
        "model.compile(optimizer=keras.optimizers.Adam(learning_rate=1e-4, decay=1e-6),\n",
        "              loss=tf.keras.losses.SparseCategoricalCrossentropy(from_logits=True),\n",
        "              metrics=['accuracy'])\n",
        "\n",
        "history = model.fit(train_images, train_labels, batch_size=32, epochs=50, \n",
        "                   validation_data=(val_images, val_labels)) # train for 50 epochs, with batch size 32"
      ]
    },
    {
      "cell_type": "code",
      "execution_count": 7,
      "metadata": {
        "colab": {
          "base_uri": "https://localhost:8080/"
        },
        "id": "vOhpP7M24T9_",
        "outputId": "e46bfd55-8855-4075-86ec-91665c6f8002"
      },
      "outputs": [
        {
          "output_type": "stream",
          "name": "stdout",
          "text": [
            "20/20 [==============================] - 0s 10ms/step - loss: 0.7303 - accuracy: 0.7196\n"
          ]
        }
      ],
      "source": [
        "results = model.evaluate(val_images, val_labels, batch_size=128)"
      ]
    },
    {
      "cell_type": "code",
      "execution_count": 8,
      "metadata": {
        "id": "MuTDYyc6p1it"
      },
      "outputs": [],
      "source": [
        "def sparsity(weights):\n",
        "  zero_weights = 0\n",
        "  total_weights = 0\n",
        "  for i in range(len(weights)):\n",
        "    curr_zero_weights = tf.reduce_sum((weights[i]==0)*1).numpy()\n",
        "    # print(curr_zero_weights)\n",
        "    zero_weights += curr_zero_weights\n",
        "    total_weights += weights[i].reshape(-1).shape[0]\n",
        "  return zero_weights / total_weights\n",
        "\n",
        "def score(acc, sparsity):\n",
        "  return (acc + sparsity)/2\n",
        "\n",
        "def magnitude_based_pruning(weights, threshold):\n",
        "  for i in range(len(weights)):\n",
        "    weights[i] = (abs(weights[i]) > threshold)  * weights[i]\n",
        "  return weights"
      ]
    },
    {
      "cell_type": "code",
      "execution_count": 9,
      "metadata": {
        "colab": {
          "base_uri": "https://localhost:8080/"
        },
        "id": "VgPspJq99I6G",
        "outputId": "3798faaf-6a4a-4e3f-a153-99d06590d85a"
      },
      "outputs": [
        {
          "output_type": "stream",
          "name": "stdout",
          "text": [
            "\n",
            "i: 0/20\n",
            "Accuracy: 0.576 || Sparsity: 0.686 || Score: 0.631\n",
            "\n",
            "i: 1/20\n",
            "Accuracy: 0.666 || Sparsity: 0.702 || Score: 0.684\n",
            "\n",
            "i: 2/20\n",
            "Accuracy: 0.700 || Sparsity: 0.713 || Score: 0.707\n",
            "\n",
            "i: 3/20\n",
            "Accuracy: 0.714 || Sparsity: 0.722 || Score: 0.718\n",
            "\n",
            "i: 4/20\n",
            "Accuracy: 0.705 || Sparsity: 0.729 || Score: 0.717\n",
            "\n",
            "i: 5/20\n",
            "Accuracy: 0.718 || Sparsity: 0.736 || Score: 0.727\n",
            "\n",
            "i: 6/20\n",
            "Accuracy: 0.719 || Sparsity: 0.741 || Score: 0.730\n",
            "\n",
            "i: 7/20\n",
            "Accuracy: 0.719 || Sparsity: 0.747 || Score: 0.733\n",
            "\n",
            "i: 8/20\n",
            "Accuracy: 0.727 || Sparsity: 0.751 || Score: 0.739\n",
            "\n",
            "i: 9/20\n",
            "Accuracy: 0.730 || Sparsity: 0.756 || Score: 0.743\n",
            "\n",
            "i: 10/20\n",
            "Accuracy: 0.733 || Sparsity: 0.760 || Score: 0.747\n",
            "\n",
            "i: 11/20\n",
            "Accuracy: 0.738 || Sparsity: 0.764 || Score: 0.751\n",
            "\n",
            "i: 12/20\n",
            "Accuracy: 0.735 || Sparsity: 0.767 || Score: 0.751\n",
            "\n",
            "i: 13/20\n",
            "Accuracy: 0.743 || Sparsity: 0.770 || Score: 0.757\n",
            "\n",
            "i: 14/20\n",
            "Accuracy: 0.734 || Sparsity: 0.773 || Score: 0.754\n",
            "\n",
            "i: 15/20\n",
            "Accuracy: 0.734 || Sparsity: 0.776 || Score: 0.755\n",
            "\n",
            "i: 16/20\n",
            "Accuracy: 0.738 || Sparsity: 0.779 || Score: 0.758\n",
            "\n",
            "i: 17/20\n",
            "Accuracy: 0.740 || Sparsity: 0.782 || Score: 0.761\n",
            "\n",
            "i: 18/20\n",
            "Accuracy: 0.747 || Sparsity: 0.784 || Score: 0.766\n",
            "\n",
            "i: 19/20\n",
            "Accuracy: 0.750 || Sparsity: 0.787 || Score: 0.768\n"
          ]
        }
      ],
      "source": [
        "thr = 0.05\n",
        "loop = 20\n",
        "epoch_per_train = 5\n",
        "for i in range(loop):\n",
        "  print()\n",
        "  print('i: {}/{}'.format(i,loop))\n",
        "  history = model.fit(train_images, train_labels, batch_size=32, epochs=epoch_per_train, \n",
        "                    validation_data=(val_images, val_labels), verbose=False)\n",
        "  weights = model.get_weights()\n",
        "  new_weights = magnitude_based_pruning(weights, threshold = thr)\n",
        "  model.set_weights(new_weights)\n",
        "\n",
        "  results = model.evaluate(val_images, val_labels, batch_size=128, verbose=False)\n",
        "  sparsity_model = sparsity(model.get_weights())\n",
        "  score_model  = score(results[1], sparsity_model)\n",
        "  print('Accuracy: {:.3f} || Sparsity: {:.3f} || Score: {:.3f}'.format(results[1],sparsity_model,score_model))\n"
      ]
    },
    {
      "cell_type": "code",
      "execution_count": 10,
      "metadata": {
        "colab": {
          "base_uri": "https://localhost:8080/"
        },
        "id": "oUuNXFjV4T-E",
        "outputId": "a5c52414-bf18-4946-a0d2-52318d8e4830"
      },
      "outputs": [
        {
          "output_type": "stream",
          "name": "stdout",
          "text": [
            "20/20 [==============================] - 0s 5ms/step - loss: 0.7011 - accuracy: 0.7497\n",
            "Sparsity of the model: 0.786662236711\n",
            "Score of the model: 0.768183\n"
          ]
        }
      ],
      "source": [
        "# evaluate again to see how the accuracy changes\n",
        "results = model.evaluate(val_images, val_labels, batch_size=128)\n",
        "sparsity_model = sparsity(model.get_weights())\n",
        "score_model  = score(results[1], sparsity_model)\n",
        "\n",
        "print('Sparsity of the model: {:.12f}'.format(sparsity_model))\n",
        "print('Score of the model: {:6f}'.format(score_model))\n",
        "# assert np.less(0.60, results[1]), 'Not getting desired accuracy'\n",
        "# assert np.less(0.36, score_model), 'Not getting desired score'\n",
        "# assert np.less(0, sparsity_model), 'No sparsity in the model'"
      ]
    },
    {
      "cell_type": "code",
      "execution_count": 11,
      "metadata": {
        "colab": {
          "base_uri": "https://localhost:8080/",
          "height": 17
        },
        "id": "wMSKQW4k4T-G",
        "outputId": "dfa4ab74-0f2b-4513-cb7b-3aa944797074"
      },
      "outputs": [
        {
          "output_type": "display_data",
          "data": {
            "text/plain": [
              "<IPython.core.display.Javascript object>"
            ],
            "application/javascript": [
              "\n",
              "    async function download(id, filename, size) {\n",
              "      if (!google.colab.kernel.accessAllowed) {\n",
              "        return;\n",
              "      }\n",
              "      const div = document.createElement('div');\n",
              "      const label = document.createElement('label');\n",
              "      label.textContent = `Downloading \"${filename}\": `;\n",
              "      div.appendChild(label);\n",
              "      const progress = document.createElement('progress');\n",
              "      progress.max = size;\n",
              "      div.appendChild(progress);\n",
              "      document.body.appendChild(div);\n",
              "\n",
              "      const buffers = [];\n",
              "      let downloaded = 0;\n",
              "\n",
              "      const channel = await google.colab.kernel.comms.open(id);\n",
              "      // Send a message to notify the kernel that we're ready.\n",
              "      channel.send({})\n",
              "\n",
              "      for await (const message of channel.messages) {\n",
              "        // Send a message to notify the kernel that we're ready.\n",
              "        channel.send({})\n",
              "        if (message.buffers) {\n",
              "          for (const buffer of message.buffers) {\n",
              "            buffers.push(buffer);\n",
              "            downloaded += buffer.byteLength;\n",
              "            progress.value = downloaded;\n",
              "          }\n",
              "        }\n",
              "      }\n",
              "      const blob = new Blob(buffers, {type: 'application/binary'});\n",
              "      const a = document.createElement('a');\n",
              "      a.href = window.URL.createObjectURL(blob);\n",
              "      a.download = filename;\n",
              "      div.appendChild(a);\n",
              "      a.click();\n",
              "      div.remove();\n",
              "    }\n",
              "  "
            ]
          },
          "metadata": {}
        },
        {
          "output_type": "display_data",
          "data": {
            "text/plain": [
              "<IPython.core.display.Javascript object>"
            ],
            "application/javascript": [
              "download(\"download_7e149713-ec2e-4e97-85c3-bbece4a5e2da\", \"my_model_weights_1.h5\", 2407560)"
            ]
          },
          "metadata": {}
        }
      ],
      "source": [
        "# you need to save the model's weights, naming it 'my_model_weights.h5'\n",
        "model_name = \"my_model_weights_1.h5\"\n",
        "model.save_weights(model_name)\n",
        "\n",
        "# running this cell will immediately download a file called 'my_model_weights.h5'\n",
        "from google.colab import files\n",
        "files.download(model_name)"
      ]
    },
    {
      "cell_type": "code",
      "execution_count": 11,
      "metadata": {
        "id": "MPvmre8lfbe-"
      },
      "outputs": [],
      "source": []
    }
  ],
  "metadata": {
    "accelerator": "GPU",
    "colab": {
      "provenance": []
    },
    "kernelspec": {
      "display_name": "Python 3",
      "language": "python",
      "name": "python3"
    },
    "language_info": {
      "codemirror_mode": {
        "name": "ipython",
        "version": 3
      },
      "file_extension": ".py",
      "mimetype": "text/x-python",
      "name": "python",
      "nbconvert_exporter": "python",
      "pygments_lexer": "ipython3",
      "version": "3.7.6"
    }
  },
  "nbformat": 4,
  "nbformat_minor": 0
}