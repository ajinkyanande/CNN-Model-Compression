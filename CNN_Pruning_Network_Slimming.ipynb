{
  "nbformat": 4,
  "nbformat_minor": 0,
  "metadata": {
    "kernelspec": {
      "display_name": "Python 3",
      "language": "python",
      "name": "python3"
    },
    "language_info": {
      "codemirror_mode": {
        "name": "ipython",
        "version": 3
      },
      "file_extension": ".py",
      "mimetype": "text/x-python",
      "name": "python",
      "nbconvert_exporter": "python",
      "pygments_lexer": "ipython3",
      "version": "3.7.6"
    },
    "colab": {
      "provenance": [],
      "collapsed_sections": [
        "KbUYoKyfNur8"
      ]
    },
    "accelerator": "GPU"
  },
  "cells": [
    {
      "cell_type": "markdown",
      "metadata": {
        "id": "y-eC-sb34T9w"
      },
      "source": [
        "## Accelerate Inference: Neural Network Pruning"
      ]
    },
    {
      "cell_type": "code",
      "metadata": {
        "id": "L47XBZWm4T9x",
        "outputId": "450a963c-95ea-4f8d-8d44-a1e0d96a3899",
        "colab": {
          "base_uri": "https://localhost:8080/"
        }
      },
      "source": [
        "import os\n",
        "import numpy as np\n",
        "import cv2\n",
        "import matplotlib.pyplot as plt\n",
        "import pickle\n",
        "from tqdm import tqdm\n",
        "\n",
        "import tensorflow as tf\n",
        "from tensorflow import keras\n",
        "from tensorflow.keras import datasets, layers, models, regularizers\n",
        "from tensorflow.keras.layers import *\n",
        "\n",
        "print(tf.version.VERSION)"
      ],
      "execution_count": 6,
      "outputs": [
        {
          "output_type": "stream",
          "name": "stdout",
          "text": [
            "2.9.2\n"
          ]
        }
      ]
    },
    {
      "cell_type": "code",
      "metadata": {
        "id": "V1FQTVeAuNiU",
        "colab": {
          "base_uri": "https://localhost:8080/"
        },
        "outputId": "b489e7b0-5342-438e-e112-026174ff3b99"
      },
      "source": [
        "# untar\n",
        "!tar -xvzf dataset.tar.gz\n",
        "\n",
        "# load train\n",
        "train_images = pickle.load(open('train_images.pkl', 'rb'))\n",
        "train_labels = pickle.load(open('train_labels.pkl', 'rb'))\n",
        "\n",
        "# load val\n",
        "val_images = pickle.load(open('val_images.pkl', 'rb'))\n",
        "val_labels = pickle.load(open('val_labels.pkl', 'rb'))"
      ],
      "execution_count": 7,
      "outputs": [
        {
          "output_type": "stream",
          "name": "stdout",
          "text": [
            "train_images.pkl\n",
            "train_labels.pkl\n",
            "val_images.pkl\n",
            "val_labels.pkl\n"
          ]
        }
      ]
    },
    {
      "cell_type": "markdown",
      "source": [
        "# Training\n",
        "BatchNorm is used initially to calculate channel scaling factors. BatchNorm dropped during pruning."
      ],
      "metadata": {
        "id": "KbUYoKyfNur8"
      }
    },
    {
      "cell_type": "code",
      "metadata": {
        "id": "KE9JuZDG4T94"
      },
      "source": [
        "model = models.Sequential()\n",
        "\n",
        "model.add(Conv2D(32, (3, 3), padding='same', kernel_regularizer=regularizers.l2(1e-5), input_shape=(25,25,3)))\n",
        "model.add(BatchNormalization(center=False))\n",
        "model.add(Activation('relu'))\n",
        "\n",
        "model.add(Conv2D(32, (3, 3), kernel_regularizer=regularizers.l2(1e-5)))\n",
        "model.add(BatchNormalization(center=False))\n",
        "model.add(Activation('relu'))\n",
        "model.add(MaxPooling2D(pool_size=(2, 2)))\n",
        "model.add(Dropout(0.25))\n",
        "\n",
        "model.add(Conv2D(64, (3, 3), padding='same', kernel_regularizer=regularizers.l2(1e-5)))\n",
        "model.add(BatchNormalization(center=False))\n",
        "model.add(Activation('relu'))\n",
        "\n",
        "model.add(Conv2D(64, (3, 3), kernel_regularizer=regularizers.l2(1e-5)))\n",
        "model.add(BatchNormalization(center=False))\n",
        "model.add(Activation('relu'))\n",
        "model.add(MaxPooling2D(pool_size=(2, 2)))\n",
        "model.add(Dropout(0.25))\n",
        "\n",
        "model.add(Flatten())\n",
        "\n",
        "model.add(Dense(512))\n",
        "model.add(Activation('relu'))\n",
        "model.add(Dropout(0.5))\n",
        "\n",
        "model.add(Dense(5))\n",
        "model.add(Activation('softmax'))"
      ],
      "execution_count": 8,
      "outputs": []
    },
    {
      "cell_type": "code",
      "metadata": {
        "id": "JTzcSoYl4T97",
        "colab": {
          "base_uri": "https://localhost:8080/"
        },
        "outputId": "5df60c16-2401-44ce-e265-11931419e7c6"
      },
      "source": [
        "print(model.summary())"
      ],
      "execution_count": 9,
      "outputs": [
        {
          "output_type": "stream",
          "name": "stdout",
          "text": [
            "Model: \"sequential_1\"\n",
            "_________________________________________________________________\n",
            " Layer (type)                Output Shape              Param #   \n",
            "=================================================================\n",
            " conv2d_4 (Conv2D)           (None, 25, 25, 32)        896       \n",
            "                                                                 \n",
            " batch_normalization_4 (Batc  (None, 25, 25, 32)       96        \n",
            " hNormalization)                                                 \n",
            "                                                                 \n",
            " activation_6 (Activation)   (None, 25, 25, 32)        0         \n",
            "                                                                 \n",
            " conv2d_5 (Conv2D)           (None, 23, 23, 32)        9248      \n",
            "                                                                 \n",
            " batch_normalization_5 (Batc  (None, 23, 23, 32)       96        \n",
            " hNormalization)                                                 \n",
            "                                                                 \n",
            " activation_7 (Activation)   (None, 23, 23, 32)        0         \n",
            "                                                                 \n",
            " max_pooling2d_2 (MaxPooling  (None, 11, 11, 32)       0         \n",
            " 2D)                                                             \n",
            "                                                                 \n",
            " dropout_3 (Dropout)         (None, 11, 11, 32)        0         \n",
            "                                                                 \n",
            " conv2d_6 (Conv2D)           (None, 11, 11, 64)        18496     \n",
            "                                                                 \n",
            " batch_normalization_6 (Batc  (None, 11, 11, 64)       192       \n",
            " hNormalization)                                                 \n",
            "                                                                 \n",
            " activation_8 (Activation)   (None, 11, 11, 64)        0         \n",
            "                                                                 \n",
            " conv2d_7 (Conv2D)           (None, 9, 9, 64)          36928     \n",
            "                                                                 \n",
            " batch_normalization_7 (Batc  (None, 9, 9, 64)         192       \n",
            " hNormalization)                                                 \n",
            "                                                                 \n",
            " activation_9 (Activation)   (None, 9, 9, 64)          0         \n",
            "                                                                 \n",
            " max_pooling2d_3 (MaxPooling  (None, 4, 4, 64)         0         \n",
            " 2D)                                                             \n",
            "                                                                 \n",
            " dropout_4 (Dropout)         (None, 4, 4, 64)          0         \n",
            "                                                                 \n",
            " flatten_1 (Flatten)         (None, 1024)              0         \n",
            "                                                                 \n",
            " dense_2 (Dense)             (None, 512)               524800    \n",
            "                                                                 \n",
            " activation_10 (Activation)  (None, 512)               0         \n",
            "                                                                 \n",
            " dropout_5 (Dropout)         (None, 512)               0         \n",
            "                                                                 \n",
            " dense_3 (Dense)             (None, 5)                 2565      \n",
            "                                                                 \n",
            " activation_11 (Activation)  (None, 5)                 0         \n",
            "                                                                 \n",
            "=================================================================\n",
            "Total params: 593,509\n",
            "Trainable params: 593,125\n",
            "Non-trainable params: 384\n",
            "_________________________________________________________________\n",
            "None\n"
          ]
        }
      ]
    },
    {
      "cell_type": "code",
      "metadata": {
        "id": "G9Nk_MAPqZPt",
        "colab": {
          "base_uri": "https://localhost:8080/"
        },
        "outputId": "c5fb69de-ce30-4671-d34a-bd6db2ae407b"
      },
      "source": [
        "model.compile(optimizer=keras.optimizers.Adam(learning_rate=0.0001, decay=1e-6),\n",
        "              loss=tf.keras.losses.SparseCategoricalCrossentropy(from_logits=True),\n",
        "              metrics=['accuracy'])\n",
        "\n",
        "history = model.fit(train_images, train_labels, batch_size=32, epochs=50,\n",
        "                    validation_data=(val_images, val_labels))"
      ],
      "execution_count": 10,
      "outputs": [
        {
          "output_type": "stream",
          "name": "stdout",
          "text": [
            "Epoch 1/50\n",
            "703/703 [==============================] - 6s 7ms/step - loss: 1.6268 - accuracy: 0.3222 - val_loss: 1.3809 - val_accuracy: 0.4380\n",
            "Epoch 2/50\n",
            "703/703 [==============================] - 4s 5ms/step - loss: 1.3834 - accuracy: 0.4033 - val_loss: 1.2938 - val_accuracy: 0.4665\n",
            "Epoch 3/50\n",
            "703/703 [==============================] - 4s 5ms/step - loss: 1.3030 - accuracy: 0.4509 - val_loss: 1.2078 - val_accuracy: 0.4974\n",
            "Epoch 4/50\n",
            "703/703 [==============================] - 4s 5ms/step - loss: 1.2596 - accuracy: 0.4733 - val_loss: 1.1993 - val_accuracy: 0.4871\n",
            "Epoch 5/50\n",
            "703/703 [==============================] - 4s 5ms/step - loss: 1.2192 - accuracy: 0.4958 - val_loss: 1.1810 - val_accuracy: 0.5097\n",
            "Epoch 6/50\n",
            "703/703 [==============================] - 4s 5ms/step - loss: 1.1845 - accuracy: 0.5120 - val_loss: 1.1403 - val_accuracy: 0.5228\n",
            "Epoch 7/50\n",
            "703/703 [==============================] - 4s 5ms/step - loss: 1.1558 - accuracy: 0.5274 - val_loss: 1.0859 - val_accuracy: 0.5537\n",
            "Epoch 8/50\n",
            "703/703 [==============================] - 4s 5ms/step - loss: 1.1379 - accuracy: 0.5370 - val_loss: 1.0662 - val_accuracy: 0.5564\n",
            "Epoch 9/50\n",
            "703/703 [==============================] - 4s 5ms/step - loss: 1.1092 - accuracy: 0.5488 - val_loss: 1.0685 - val_accuracy: 0.5560\n",
            "Epoch 10/50\n",
            "703/703 [==============================] - 4s 5ms/step - loss: 1.0856 - accuracy: 0.5598 - val_loss: 1.0655 - val_accuracy: 0.5564\n",
            "Epoch 11/50\n",
            "703/703 [==============================] - 4s 6ms/step - loss: 1.0659 - accuracy: 0.5685 - val_loss: 1.0094 - val_accuracy: 0.5750\n",
            "Epoch 12/50\n",
            "703/703 [==============================] - 4s 5ms/step - loss: 1.0427 - accuracy: 0.5814 - val_loss: 1.0443 - val_accuracy: 0.5754\n",
            "Epoch 13/50\n",
            "703/703 [==============================] - 4s 6ms/step - loss: 1.0227 - accuracy: 0.5935 - val_loss: 1.0252 - val_accuracy: 0.5794\n",
            "Epoch 14/50\n",
            "703/703 [==============================] - 4s 5ms/step - loss: 1.0041 - accuracy: 0.6015 - val_loss: 1.0135 - val_accuracy: 0.5802\n",
            "Epoch 15/50\n",
            "703/703 [==============================] - 4s 5ms/step - loss: 0.9934 - accuracy: 0.6061 - val_loss: 1.0653 - val_accuracy: 0.5750\n",
            "Epoch 16/50\n",
            "703/703 [==============================] - 4s 5ms/step - loss: 0.9699 - accuracy: 0.6124 - val_loss: 0.9508 - val_accuracy: 0.6154\n",
            "Epoch 17/50\n",
            "703/703 [==============================] - 5s 7ms/step - loss: 0.9510 - accuracy: 0.6251 - val_loss: 0.9653 - val_accuracy: 0.6150\n",
            "Epoch 18/50\n",
            "703/703 [==============================] - 4s 5ms/step - loss: 0.9408 - accuracy: 0.6282 - val_loss: 0.9898 - val_accuracy: 0.6012\n",
            "Epoch 19/50\n",
            "703/703 [==============================] - 4s 5ms/step - loss: 0.9203 - accuracy: 0.6355 - val_loss: 0.9293 - val_accuracy: 0.6174\n",
            "Epoch 20/50\n",
            "703/703 [==============================] - 4s 5ms/step - loss: 0.9084 - accuracy: 0.6446 - val_loss: 0.8839 - val_accuracy: 0.6507\n",
            "Epoch 21/50\n",
            "703/703 [==============================] - 4s 5ms/step - loss: 0.8953 - accuracy: 0.6534 - val_loss: 0.8740 - val_accuracy: 0.6507\n",
            "Epoch 22/50\n",
            "703/703 [==============================] - 4s 6ms/step - loss: 0.8797 - accuracy: 0.6595 - val_loss: 0.8967 - val_accuracy: 0.6416\n",
            "Epoch 23/50\n",
            "703/703 [==============================] - 4s 5ms/step - loss: 0.8686 - accuracy: 0.6628 - val_loss: 0.9079 - val_accuracy: 0.6345\n",
            "Epoch 24/50\n",
            "703/703 [==============================] - 4s 5ms/step - loss: 0.8517 - accuracy: 0.6702 - val_loss: 0.8584 - val_accuracy: 0.6653\n",
            "Epoch 25/50\n",
            "703/703 [==============================] - 4s 5ms/step - loss: 0.8362 - accuracy: 0.6776 - val_loss: 0.8607 - val_accuracy: 0.6554\n",
            "Epoch 26/50\n",
            "703/703 [==============================] - 4s 6ms/step - loss: 0.8203 - accuracy: 0.6844 - val_loss: 0.8507 - val_accuracy: 0.6558\n",
            "Epoch 27/50\n",
            "703/703 [==============================] - 4s 5ms/step - loss: 0.8158 - accuracy: 0.6830 - val_loss: 0.7885 - val_accuracy: 0.6855\n",
            "Epoch 28/50\n",
            "703/703 [==============================] - 4s 5ms/step - loss: 0.8016 - accuracy: 0.6890 - val_loss: 0.8402 - val_accuracy: 0.6681\n",
            "Epoch 29/50\n",
            "703/703 [==============================] - 4s 5ms/step - loss: 0.7918 - accuracy: 0.6953 - val_loss: 0.8471 - val_accuracy: 0.6594\n",
            "Epoch 30/50\n",
            "703/703 [==============================] - 4s 5ms/step - loss: 0.7778 - accuracy: 0.7020 - val_loss: 1.0175 - val_accuracy: 0.6222\n",
            "Epoch 31/50\n",
            "703/703 [==============================] - 4s 5ms/step - loss: 0.7707 - accuracy: 0.7029 - val_loss: 0.7753 - val_accuracy: 0.7010\n",
            "Epoch 32/50\n",
            "703/703 [==============================] - 4s 6ms/step - loss: 0.7551 - accuracy: 0.7082 - val_loss: 0.7837 - val_accuracy: 0.6927\n",
            "Epoch 33/50\n",
            "703/703 [==============================] - 4s 5ms/step - loss: 0.7487 - accuracy: 0.7156 - val_loss: 0.8551 - val_accuracy: 0.6689\n",
            "Epoch 34/50\n",
            "703/703 [==============================] - 4s 5ms/step - loss: 0.7397 - accuracy: 0.7169 - val_loss: 0.8383 - val_accuracy: 0.6745\n",
            "Epoch 35/50\n",
            "703/703 [==============================] - 4s 5ms/step - loss: 0.7353 - accuracy: 0.7197 - val_loss: 0.8550 - val_accuracy: 0.6729\n",
            "Epoch 36/50\n",
            "703/703 [==============================] - 4s 5ms/step - loss: 0.7253 - accuracy: 0.7203 - val_loss: 0.7869 - val_accuracy: 0.6954\n",
            "Epoch 37/50\n",
            "703/703 [==============================] - 4s 5ms/step - loss: 0.7223 - accuracy: 0.7248 - val_loss: 0.9544 - val_accuracy: 0.6455\n",
            "Epoch 38/50\n",
            "703/703 [==============================] - 4s 5ms/step - loss: 0.7034 - accuracy: 0.7285 - val_loss: 0.8008 - val_accuracy: 0.6950\n",
            "Epoch 39/50\n",
            "703/703 [==============================] - 4s 5ms/step - loss: 0.7003 - accuracy: 0.7346 - val_loss: 0.7708 - val_accuracy: 0.7105\n",
            "Epoch 40/50\n",
            "703/703 [==============================] - 4s 5ms/step - loss: 0.6853 - accuracy: 0.7368 - val_loss: 0.7633 - val_accuracy: 0.7117\n",
            "Epoch 41/50\n",
            "703/703 [==============================] - 4s 5ms/step - loss: 0.6832 - accuracy: 0.7401 - val_loss: 0.7683 - val_accuracy: 0.7034\n",
            "Epoch 42/50\n",
            "703/703 [==============================] - 4s 5ms/step - loss: 0.6744 - accuracy: 0.7442 - val_loss: 0.7422 - val_accuracy: 0.7097\n",
            "Epoch 43/50\n",
            "703/703 [==============================] - 4s 6ms/step - loss: 0.6664 - accuracy: 0.7442 - val_loss: 0.8366 - val_accuracy: 0.6879\n",
            "Epoch 44/50\n",
            "703/703 [==============================] - 4s 5ms/step - loss: 0.6621 - accuracy: 0.7486 - val_loss: 0.7417 - val_accuracy: 0.7117\n",
            "Epoch 45/50\n",
            "703/703 [==============================] - 4s 5ms/step - loss: 0.6537 - accuracy: 0.7509 - val_loss: 0.7638 - val_accuracy: 0.7069\n",
            "Epoch 46/50\n",
            "703/703 [==============================] - 4s 5ms/step - loss: 0.6498 - accuracy: 0.7536 - val_loss: 0.7553 - val_accuracy: 0.7145\n",
            "Epoch 47/50\n",
            "703/703 [==============================] - 4s 5ms/step - loss: 0.6411 - accuracy: 0.7547 - val_loss: 0.7859 - val_accuracy: 0.7069\n",
            "Epoch 48/50\n",
            "703/703 [==============================] - 4s 5ms/step - loss: 0.6323 - accuracy: 0.7614 - val_loss: 0.7470 - val_accuracy: 0.7172\n",
            "Epoch 49/50\n",
            "703/703 [==============================] - 4s 5ms/step - loss: 0.6249 - accuracy: 0.7625 - val_loss: 0.7487 - val_accuracy: 0.7137\n",
            "Epoch 50/50\n",
            "703/703 [==============================] - 4s 5ms/step - loss: 0.6158 - accuracy: 0.7659 - val_loss: 0.7603 - val_accuracy: 0.7121\n"
          ]
        }
      ]
    },
    {
      "cell_type": "code",
      "metadata": {
        "id": "vOhpP7M24T9_",
        "colab": {
          "base_uri": "https://localhost:8080/"
        },
        "outputId": "423b6321-ee8b-4e42-bb29-d5b671154bd7"
      },
      "source": [
        "results = model.evaluate(val_images, val_labels, batch_size=128)"
      ],
      "execution_count": 11,
      "outputs": [
        {
          "output_type": "stream",
          "name": "stdout",
          "text": [
            "20/20 [==============================] - 0s 8ms/step - loss: 0.7603 - accuracy: 0.7121\n"
          ]
        }
      ]
    },
    {
      "cell_type": "code",
      "source": [
        "model.save_weights(\"trained_model.h5\")"
      ],
      "metadata": {
        "id": "vXFlwifHt2q2"
      },
      "execution_count": 12,
      "outputs": []
    },
    {
      "cell_type": "markdown",
      "source": [
        "# Pruning\n",
        "Channel scaling factors are first calculated from model with BatchNorm (using BatchNorm scaling factor) and if they are less than the threshold value, they are set to zero considering the corresponding channels are unimportant. The channel to be dropped are kept fixed while retraining assuming that the unimportant channels remain the same with/without BathcNorm and during retraining as well."
      ],
      "metadata": {
        "id": "XpyJ69InN1RK"
      }
    },
    {
      "cell_type": "code",
      "source": [
        "def sparsity(weights):\n",
        " \n",
        "    zero_weights = 0\n",
        "  \n",
        "    for i in range(len(weights)):\n",
        "      \n",
        "        curr_zero_weights = tf.reduce_sum((weights[i]==0)*1).numpy()\n",
        "        zero_weights += curr_zero_weights\n",
        "\n",
        "    return zero_weights / 592933"
      ],
      "metadata": {
        "id": "Ty4E_5wQTGUS"
      },
      "execution_count": 13,
      "outputs": []
    },
    {
      "cell_type": "code",
      "source": [
        "def get_nonbatchnorm_model(model):\n",
        "\n",
        "    new_model = models.Sequential()\n",
        "\n",
        "    for i, layer in enumerate(model.layers):\n",
        "        if not isinstance(layer, keras.layers.BatchNormalization):\n",
        "            new_model.add(layer)\n",
        "    \n",
        "    return new_model"
      ],
      "metadata": {
        "id": "hdkcCjQbQ6v0"
      },
      "execution_count": 14,
      "outputs": []
    },
    {
      "cell_type": "code",
      "metadata": {
        "id": "vjw94aij4T-C",
        "colab": {
          "base_uri": "https://localhost:8080/"
        },
        "outputId": "8f599074-2ab3-46ba-bcfb-69a4c65e944a"
      },
      "source": [
        "all_thres = np.arange(0.92, 1.05, 0.01)\n",
        "all_models = []\n",
        "loops = 2\n",
        "\n",
        "for thres in all_thres:\n",
        "\n",
        "    print('\\nthreshold', thres)\n",
        "\n",
        "    model.load_weights('trained_model.h5')\n",
        "    all_sparse_gamma = []\n",
        "\n",
        "    for i, layer in enumerate(model.layers):\n",
        "        if isinstance(layer, keras.layers.BatchNormalization):\n",
        "\n",
        "            gamma = layer.get_weights()[0]\n",
        "            sparse_gamma = (gamma > thres).astype(float)\n",
        "\n",
        "            # save un/important channels\n",
        "            all_sparse_gamma.append(sparse_gamma)\n",
        "\n",
        "            conv_weight = model.layers[i-1].get_weights()[0]\n",
        "            conv_bias = model.layers[i-1].get_weights()[1]\n",
        "\n",
        "            conv_weight *= sparse_gamma\n",
        "            conv_bias *= sparse_gamma\n",
        "\n",
        "            model.layers[i-1].set_weights([conv_weight, conv_bias])\n",
        "\n",
        "    pruned_model = get_nonbatchnorm_model(model)\n",
        "    pruned_model.compile(optimizer=keras.optimizers.Adam(learning_rate=0.00001, decay=1e-6),\n",
        "                        loss=tf.keras.losses.SparseCategoricalCrossentropy(from_logits=True),\n",
        "                        metrics=['accuracy'])\n",
        "\n",
        "    for i in tqdm(range(loops), total=loops):\n",
        "\n",
        "        history = pruned_model.fit(train_images, train_labels, batch_size=32, epochs=2,\n",
        "                                  validation_data=(val_images, val_labels), verbose=False)\n",
        "\n",
        "        # drop/keep convolution layer channel weights\n",
        "        conv_count = 0\n",
        "\n",
        "        for i, layer in enumerate(pruned_model.layers):\n",
        "            if isinstance(layer, keras.layers.Conv2D):\n",
        "\n",
        "                sparse_gamma = all_sparse_gamma[conv_count]\n",
        "                conv_count += 1\n",
        "\n",
        "                conv_weight = layer.get_weights()[0]\n",
        "                conv_bias = layer.get_weights()[1]\n",
        "\n",
        "                conv_weight *= sparse_gamma\n",
        "                conv_bias *= sparse_gamma\n",
        "\n",
        "                layer.set_weights([conv_weight, conv_bias])\n",
        "        \n",
        "        results = pruned_model.evaluate(val_images, val_labels, batch_size=128)\n",
        "    \n",
        "    all_models.append((thres, pruned_model, results, sparsity(pruned_model.get_weights())))"
      ],
      "execution_count": 15,
      "outputs": [
        {
          "output_type": "stream",
          "name": "stdout",
          "text": [
            "\n",
            "threshold 0.92\n"
          ]
        },
        {
          "output_type": "stream",
          "name": "stderr",
          "text": [
            "\r  0%|          | 0/2 [00:00<?, ?it/s]"
          ]
        },
        {
          "output_type": "stream",
          "name": "stdout",
          "text": [
            "20/20 [==============================] - 0s 5ms/step - loss: 1.1119 - accuracy: 0.5493\n"
          ]
        },
        {
          "output_type": "stream",
          "name": "stderr",
          "text": [
            "\r 50%|█████     | 1/2 [00:11<00:11, 11.31s/it]"
          ]
        },
        {
          "output_type": "stream",
          "name": "stdout",
          "text": [
            "20/20 [==============================] - 0s 5ms/step - loss: 1.0168 - accuracy: 0.5988\n"
          ]
        },
        {
          "output_type": "stream",
          "name": "stderr",
          "text": [
            "100%|██████████| 2/2 [00:17<00:00,  8.86s/it]"
          ]
        },
        {
          "output_type": "stream",
          "name": "stdout",
          "text": [
            "\n",
            "threshold 0.93\n"
          ]
        },
        {
          "output_type": "stream",
          "name": "stderr",
          "text": [
            "\n",
            "  0%|          | 0/2 [00:00<?, ?it/s]"
          ]
        },
        {
          "output_type": "stream",
          "name": "stdout",
          "text": [
            "20/20 [==============================] - 0s 5ms/step - loss: 1.1249 - accuracy: 0.5505\n"
          ]
        },
        {
          "output_type": "stream",
          "name": "stderr",
          "text": [
            "\r 50%|█████     | 1/2 [00:11<00:11, 11.27s/it]"
          ]
        },
        {
          "output_type": "stream",
          "name": "stdout",
          "text": [
            "20/20 [==============================] - 0s 4ms/step - loss: 1.0254 - accuracy: 0.6008\n"
          ]
        },
        {
          "output_type": "stream",
          "name": "stderr",
          "text": [
            "100%|██████████| 2/2 [00:17<00:00,  8.87s/it]\n"
          ]
        },
        {
          "output_type": "stream",
          "name": "stdout",
          "text": [
            "\n",
            "threshold 0.9400000000000001\n"
          ]
        },
        {
          "output_type": "stream",
          "name": "stderr",
          "text": [
            "\r  0%|          | 0/2 [00:00<?, ?it/s]"
          ]
        },
        {
          "output_type": "stream",
          "name": "stdout",
          "text": [
            "20/20 [==============================] - 0s 5ms/step - loss: 1.1317 - accuracy: 0.5442\n"
          ]
        },
        {
          "output_type": "stream",
          "name": "stderr",
          "text": [
            "\r 50%|█████     | 1/2 [00:11<00:11, 11.24s/it]"
          ]
        },
        {
          "output_type": "stream",
          "name": "stdout",
          "text": [
            "20/20 [==============================] - 0s 5ms/step - loss: 1.0520 - accuracy: 0.5830\n"
          ]
        },
        {
          "output_type": "stream",
          "name": "stderr",
          "text": [
            "100%|██████████| 2/2 [00:21<00:00, 10.93s/it]"
          ]
        },
        {
          "output_type": "stream",
          "name": "stdout",
          "text": [
            "\n",
            "threshold 0.9500000000000001\n"
          ]
        },
        {
          "output_type": "stream",
          "name": "stderr",
          "text": [
            "\n",
            "  0%|          | 0/2 [00:00<?, ?it/s]"
          ]
        },
        {
          "output_type": "stream",
          "name": "stdout",
          "text": [
            "20/20 [==============================] - 0s 4ms/step - loss: 1.2032 - accuracy: 0.4982\n"
          ]
        },
        {
          "output_type": "stream",
          "name": "stderr",
          "text": [
            "\r 50%|█████     | 1/2 [00:07<00:07,  7.20s/it]"
          ]
        },
        {
          "output_type": "stream",
          "name": "stdout",
          "text": [
            "20/20 [==============================] - 0s 5ms/step - loss: 1.0744 - accuracy: 0.5711\n"
          ]
        },
        {
          "output_type": "stream",
          "name": "stderr",
          "text": [
            "100%|██████████| 2/2 [00:17<00:00,  8.92s/it]"
          ]
        },
        {
          "output_type": "stream",
          "name": "stdout",
          "text": [
            "\n",
            "threshold 0.9600000000000001\n"
          ]
        },
        {
          "output_type": "stream",
          "name": "stderr",
          "text": [
            "\n",
            "  0%|          | 0/2 [00:00<?, ?it/s]"
          ]
        },
        {
          "output_type": "stream",
          "name": "stdout",
          "text": [
            "20/20 [==============================] - 0s 4ms/step - loss: 1.1993 - accuracy: 0.5141\n"
          ]
        },
        {
          "output_type": "stream",
          "name": "stderr",
          "text": [
            "\r 50%|█████     | 1/2 [00:06<00:06,  6.92s/it]"
          ]
        },
        {
          "output_type": "stream",
          "name": "stdout",
          "text": [
            "20/20 [==============================] - 0s 5ms/step - loss: 1.0527 - accuracy: 0.5909\n"
          ]
        },
        {
          "output_type": "stream",
          "name": "stderr",
          "text": [
            "100%|██████████| 2/2 [00:17<00:00,  8.78s/it]"
          ]
        },
        {
          "output_type": "stream",
          "name": "stdout",
          "text": [
            "\n",
            "threshold 0.9700000000000001\n"
          ]
        },
        {
          "output_type": "stream",
          "name": "stderr",
          "text": [
            "\n",
            "  0%|          | 0/2 [00:00<?, ?it/s]"
          ]
        },
        {
          "output_type": "stream",
          "name": "stdout",
          "text": [
            "20/20 [==============================] - 0s 4ms/step - loss: 1.2372 - accuracy: 0.4974\n"
          ]
        },
        {
          "output_type": "stream",
          "name": "stderr",
          "text": [
            "\r 50%|█████     | 1/2 [00:07<00:07,  7.15s/it]"
          ]
        },
        {
          "output_type": "stream",
          "name": "stdout",
          "text": [
            "20/20 [==============================] - 0s 6ms/step - loss: 1.1256 - accuracy: 0.5501\n"
          ]
        },
        {
          "output_type": "stream",
          "name": "stderr",
          "text": [
            "100%|██████████| 2/2 [00:17<00:00,  8.93s/it]"
          ]
        },
        {
          "output_type": "stream",
          "name": "stdout",
          "text": [
            "\n",
            "threshold 0.9800000000000001\n"
          ]
        },
        {
          "output_type": "stream",
          "name": "stderr",
          "text": [
            "\n",
            "  0%|          | 0/2 [00:00<?, ?it/s]"
          ]
        },
        {
          "output_type": "stream",
          "name": "stdout",
          "text": [
            "20/20 [==============================] - 0s 5ms/step - loss: 1.3549 - accuracy: 0.4705\n"
          ]
        },
        {
          "output_type": "stream",
          "name": "stderr",
          "text": [
            "\r 50%|█████     | 1/2 [00:11<00:11, 11.51s/it]"
          ]
        },
        {
          "output_type": "stream",
          "name": "stdout",
          "text": [
            "20/20 [==============================] - 0s 4ms/step - loss: 1.2128 - accuracy: 0.5133\n"
          ]
        },
        {
          "output_type": "stream",
          "name": "stderr",
          "text": [
            "100%|██████████| 2/2 [00:17<00:00,  8.91s/it]\n"
          ]
        },
        {
          "output_type": "stream",
          "name": "stdout",
          "text": [
            "\n",
            "threshold 0.9900000000000001\n"
          ]
        },
        {
          "output_type": "stream",
          "name": "stderr",
          "text": [
            "\r  0%|          | 0/2 [00:00<?, ?it/s]"
          ]
        },
        {
          "output_type": "stream",
          "name": "stdout",
          "text": [
            "20/20 [==============================] - 0s 5ms/step - loss: 1.4439 - accuracy: 0.4396\n"
          ]
        },
        {
          "output_type": "stream",
          "name": "stderr",
          "text": [
            "\r 50%|█████     | 1/2 [00:11<00:11, 11.20s/it]"
          ]
        },
        {
          "output_type": "stream",
          "name": "stdout",
          "text": [
            "20/20 [==============================] - 0s 4ms/step - loss: 1.3297 - accuracy: 0.4444\n"
          ]
        },
        {
          "output_type": "stream",
          "name": "stderr",
          "text": [
            "100%|██████████| 2/2 [00:17<00:00,  8.80s/it]"
          ]
        },
        {
          "output_type": "stream",
          "name": "stdout",
          "text": [
            "\n",
            "threshold 1.0\n"
          ]
        },
        {
          "output_type": "stream",
          "name": "stderr",
          "text": [
            "\n",
            "  0%|          | 0/2 [00:00<?, ?it/s]"
          ]
        },
        {
          "output_type": "stream",
          "name": "stdout",
          "text": [
            "20/20 [==============================] - 0s 5ms/step - loss: 1.4947 - accuracy: 0.3873\n"
          ]
        },
        {
          "output_type": "stream",
          "name": "stderr",
          "text": [
            "\r 50%|█████     | 1/2 [00:11<00:11, 11.18s/it]"
          ]
        },
        {
          "output_type": "stream",
          "name": "stdout",
          "text": [
            "20/20 [==============================] - 0s 4ms/step - loss: 1.3961 - accuracy: 0.3933\n"
          ]
        },
        {
          "output_type": "stream",
          "name": "stderr",
          "text": [
            "100%|██████████| 2/2 [00:17<00:00,  8.76s/it]\n"
          ]
        },
        {
          "output_type": "stream",
          "name": "stdout",
          "text": [
            "\n",
            "threshold 1.0100000000000002\n"
          ]
        },
        {
          "output_type": "stream",
          "name": "stderr",
          "text": [
            "\r  0%|          | 0/2 [00:00<?, ?it/s]"
          ]
        },
        {
          "output_type": "stream",
          "name": "stdout",
          "text": [
            "20/20 [==============================] - 0s 5ms/step - loss: 1.5690 - accuracy: 0.3101\n"
          ]
        },
        {
          "output_type": "stream",
          "name": "stderr",
          "text": [
            "\r 50%|█████     | 1/2 [00:11<00:11, 11.20s/it]"
          ]
        },
        {
          "output_type": "stream",
          "name": "stdout",
          "text": [
            "20/20 [==============================] - 0s 5ms/step - loss: 1.4775 - accuracy: 0.3648\n"
          ]
        },
        {
          "output_type": "stream",
          "name": "stderr",
          "text": [
            "100%|██████████| 2/2 [00:21<00:00, 10.91s/it]"
          ]
        },
        {
          "output_type": "stream",
          "name": "stdout",
          "text": [
            "\n",
            "threshold 1.02\n"
          ]
        },
        {
          "output_type": "stream",
          "name": "stderr",
          "text": [
            "\n",
            "  0%|          | 0/2 [00:00<?, ?it/s]"
          ]
        },
        {
          "output_type": "stream",
          "name": "stdout",
          "text": [
            "20/20 [==============================] - 0s 4ms/step - loss: 1.5965 - accuracy: 0.2828\n"
          ]
        },
        {
          "output_type": "stream",
          "name": "stderr",
          "text": [
            "\r 50%|█████     | 1/2 [00:07<00:07,  7.10s/it]"
          ]
        },
        {
          "output_type": "stream",
          "name": "stdout",
          "text": [
            "20/20 [==============================] - 0s 5ms/step - loss: 1.5171 - accuracy: 0.3450\n"
          ]
        },
        {
          "output_type": "stream",
          "name": "stderr",
          "text": [
            "100%|██████████| 2/2 [00:13<00:00,  6.70s/it]"
          ]
        },
        {
          "output_type": "stream",
          "name": "stdout",
          "text": [
            "\n",
            "threshold 1.0300000000000002\n"
          ]
        },
        {
          "output_type": "stream",
          "name": "stderr",
          "text": [
            "\n",
            "  0%|          | 0/2 [00:00<?, ?it/s]"
          ]
        },
        {
          "output_type": "stream",
          "name": "stdout",
          "text": [
            "20/20 [==============================] - 0s 6ms/step - loss: 1.6013 - accuracy: 0.2471\n"
          ]
        },
        {
          "output_type": "stream",
          "name": "stderr",
          "text": [
            "\r 50%|█████     | 1/2 [00:11<00:11, 11.17s/it]"
          ]
        },
        {
          "output_type": "stream",
          "name": "stdout",
          "text": [
            "20/20 [==============================] - 0s 4ms/step - loss: 1.5778 - accuracy: 0.2756\n"
          ]
        },
        {
          "output_type": "stream",
          "name": "stderr",
          "text": [
            "100%|██████████| 2/2 [00:17<00:00,  8.77s/it]"
          ]
        },
        {
          "output_type": "stream",
          "name": "stdout",
          "text": [
            "\n",
            "threshold 1.04\n"
          ]
        },
        {
          "output_type": "stream",
          "name": "stderr",
          "text": [
            "\n",
            "  0%|          | 0/2 [00:00<?, ?it/s]"
          ]
        },
        {
          "output_type": "stream",
          "name": "stdout",
          "text": [
            "20/20 [==============================] - 0s 5ms/step - loss: 1.6104 - accuracy: 0.1925\n"
          ]
        },
        {
          "output_type": "stream",
          "name": "stderr",
          "text": [
            "\r 50%|█████     | 1/2 [00:11<00:11, 11.14s/it]"
          ]
        },
        {
          "output_type": "stream",
          "name": "stdout",
          "text": [
            "20/20 [==============================] - 0s 4ms/step - loss: 1.6089 - accuracy: 0.1925\n"
          ]
        },
        {
          "output_type": "stream",
          "name": "stderr",
          "text": [
            "100%|██████████| 2/2 [00:17<00:00,  8.71s/it]\n"
          ]
        }
      ]
    },
    {
      "cell_type": "markdown",
      "source": [
        "# Pareto"
      ],
      "metadata": {
        "id": "sQU5TtP09VIU"
      }
    },
    {
      "cell_type": "code",
      "source": [
        "accs = []\n",
        "spars = []\n",
        "\n",
        "for i in all_models:\n",
        "\n",
        "    accs.append(i[2][1])\n",
        "    spars.append(i[3])"
      ],
      "metadata": {
        "id": "SHla_FQWX4sY"
      },
      "execution_count": 16,
      "outputs": []
    },
    {
      "cell_type": "code",
      "source": [
        "plt.plot(spars, accs)\n",
        "plt.xlabel('Sparsities')\n",
        "plt.ylabel('Accuracies')\n",
        "plt.title('Network Slimming')"
      ],
      "metadata": {
        "colab": {
          "base_uri": "https://localhost:8080/",
          "height": 312
        },
        "id": "a4nRg8skYMki",
        "outputId": "b44e1c8e-d9f8-4589-b9c1-641b661e02ac"
      },
      "execution_count": 17,
      "outputs": [
        {
          "output_type": "execute_result",
          "data": {
            "text/plain": [
              "Text(0.5, 1.0, 'Network Slimming')"
            ]
          },
          "metadata": {},
          "execution_count": 17
        },
        {
          "output_type": "display_data",
          "data": {
            "text/plain": [
              "<Figure size 432x288 with 1 Axes>"
            ],
            "image/png": "[encoded data removed]"
          },
          "metadata": {
            "needs_background": "light"
          }
        }
      ]
    },
    {
      "cell_type": "code",
      "source": [
        "np.savetxt('ns_accuracies.csv', accs, delimiter=',')\n",
        "np.savetxt('ns_sparsities.csv', spars, delimiter=',')"
      ],
      "metadata": {
        "id": "7viSkLCEYtAu"
      },
      "execution_count": 18,
      "outputs": []
    },
    {
      "cell_type": "markdown",
      "source": [
        "# Pick Best Model"
      ],
      "metadata": {
        "id": "4kEFC5-Q9QH3"
      }
    },
    {
      "cell_type": "code",
      "metadata": {
        "id": "MPiJ_b1S4T-I"
      },
      "source": [
        "def score(acc, sparsity):\n",
        "\n",
        "    return (acc + sparsity) / 2"
      ],
      "execution_count": 19,
      "outputs": []
    },
    {
      "cell_type": "code",
      "metadata": {
        "id": "wMSKQW4k4T-G",
        "outputId": "117670fc-ea1f-4644-d972-00b6194cdc71",
        "colab": {
          "base_uri": "https://localhost:8080/"
        }
      },
      "source": [
        "# get model with best score\n",
        "all_models.sort(key=lambda m: score(m[2][1], m[3]))\n",
        "best_model = all_models[-1][1]\n",
        "\n",
        "results = best_model.evaluate(val_images, val_labels, batch_size=128)\n",
        "final_score = score(all_models[-1][2][1], all_models[-1][3])\n",
        "\n",
        "print('threshold:', all_models[-1][0])\n",
        "print('results: ', all_models[-1][2])\n",
        "print('sparsity: ', all_models[-1][3])\n",
        "print('final_score', final_score)\n",
        "\n",
        "best_model.save_weights('my_model_weights_3.h5')"
      ],
      "execution_count": 20,
      "outputs": [
        {
          "output_type": "stream",
          "name": "stdout",
          "text": [
            "20/20 [==============================] - 0s 4ms/step - loss: 1.6089 - accuracy: 0.1925\n",
            "threshold: 0.9600000000000001\n",
            "results:  [1.0526989698410034, 0.5908910632133484]\n",
            "sparsity:  0.01843547247328113\n",
            "final_score 0.30466326784331477\n"
          ]
        }
      ]
    }
  ]
}